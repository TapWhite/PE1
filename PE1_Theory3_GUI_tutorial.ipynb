{
 "cells": [
  {
   "cell_type": "markdown",
   "metadata": {},
   "source": [
    "<h1>GUI Tutorial</h1>\n",
    "\n",
    "You learned how to program Object Oriented and how to read out a the MyDAQ using Python. We assume you gained some insight in both of these topics. It would however be nice if you could make a interface in which you can control your MyDAQ.\n",
    "\n",
    "To that end you will be introduced to making a Graphical User Interface (GUI) in Python. A GUI is very handy, as it can make your program more user-friendly (such that an 'end-user' does not have to understand the code to be able to use your program).\n",
    "\n",
    "First, we will do a quick recap on OOP."
   ]
  },
  {
   "cell_type": "markdown",
   "metadata": {},
   "source": [
    "<h3> Exercise 1: Object Oriented Programming - recap</h3>\n",
    "\n",
    "<i>Objects are a representation of real world objects like cars, dogs, bikes, etc. The objects share two main characteristics: data and behavior.\n",
    "\n",
    "Cars have data like number of wheels, number of doors, seating capacity and also have behavior: accelerate, stop, show how much fuel is missing and so many other types of 'behavior'.\n",
    "\n",
    "In Object Oriented Programming data are called attributes and types of behavior are called methods. Again:\n",
    "\n",
    "    Data → Attributes\n",
    "    Behavior → Methods\n",
    "\n",
    "A Class is the blueprint from which individual objects (instances) are created. In the real world we often find many objects all of the same type, e.g. cars. All the same make and model (have an engine, wheels, doors, etc). Each car is built from the same set of blueprints and has the same components.</i>"
   ]
  },
  {
   "cell_type": "code",
   "execution_count": 5,
   "metadata": {
    "collapsed": true
   },
   "outputs": [
    {
     "name": "stdout",
     "output_type": "stream",
     "text": [
      "%pylab is deprecated, use %matplotlib inline and import the required libraries.\n",
      "Populating the interactive namespace from numpy and matplotlib\n"
     ]
    },
    {
     "name": "stderr",
     "output_type": "stream",
     "text": [
      "c:\\Users\\Damianko\\anaconda3\\Lib\\site-packages\\IPython\\core\\magics\\pylab.py:162: UserWarning: pylab import has clobbered these variables: ['random']\n",
      "`%matplotlib` prevents importing * from pylab and numpy\n",
      "  warn(\"pylab import has clobbered these variables: %s\"  % clobbered +\n"
     ]
    }
   ],
   "source": [
    "# Installs some basic functions\n",
    "%pylab inline\n",
    "#from matplotlib import pyplot as plt\n",
    "#import numpy as np\n",
    "from scipy import optimize"
   ]
  },
  {
   "cell_type": "markdown",
   "metadata": {},
   "source": [
    "<h4>1.1 To do: you will build a class containing several user-defined functions with noise added, models to fit the data with and a method to evaluate which model fits the data best.</h4>\n",
    "<ul>\n",
    "<li>The class should build several user-defined functions (e.g. sin, cos, etc) with random noise on it (provide mu, sigma and use normal distributed noise). This can all take place in the $__init__$ function, or if you like in a 'build-data' method.</li>\n",
    "<li>Next, make a method in your class that plots the data.</li>\n",
    "<li>Now the tricky part comes in. Make a few models to fit the data. You may choose whatever model you like and how to implement it.</li>\n",
    "<li>After you have defined and fitted a few (>=3) of these models, you build one last function, 'evaluate'. This should return the RMSE of each model, such that you may evaluate which model fits best!</li>\n",
    "</ul>\n",
    "\n",
    "<i>A few hints are given below. Use them to your advance, but feel free to change whatever you like. If you think you have a better idea for a new class, which shows that you understand the basics, great! Do so :-) </i>\n",
    "\n",
    "<b>Make sure you document and interpret all your experiments scientifically and provide the necessary data in your lab journal!</b>"
   ]
  },
  {
   "cell_type": "code",
   "execution_count": null,
   "metadata": {
    "collapsed": true
   },
   "outputs": [],
   "source": [
    "class random_data(object):\n",
    "    def __init__(self, x, noise_mean = 0, noise_sigma = 0.1, func=np.sin):\n",
    "        # Initialize the xdata and create the y data using the function of x and add some noise\n",
    "        self.xdata = x\n",
    "        self.ydata = func(self.xdata)\n",
    "        # Your code here to add some noise\n",
    "        \n",
    "        \n",
    "        \n",
    "    # To make use of the data built here in other functions within the class you have two options. \n",
    "    # 1) make a return statement and call the function which builds the stuff you need each time you use it\n",
    "    # 2) maybe easier, once the work is done, make a new variable self.variablename, which can contain \n",
    "    # whatever you like. An example of this is given below in def func1\n",
    "\n",
    "    \"\"\" Example:\n",
    "    def func1(self):\n",
    "        y1 = 5*x + 3\n",
    "        # The step below shows you how to make an attribute from a local variable within the function\n",
    "        # So, this is the important part. In function func1() we have made a variable y1. Now, by \n",
    "        # using self.output = y1 we create an attribute with the value of y1. This attribute is available\n",
    "        # all over the class using self.output.\n",
    "\n",
    "        self.output = y1\n",
    "\n",
    "    def func2(self):\n",
    "        self.func1()\n",
    "        # We can now use self.output here again, e.g.\n",
    "        print(self.output)\n",
    "    \"\"\"\n",
    "\n",
    "    \"\"\"Example for fitting:\n",
    "    # This example is not related to the example above\n",
    "    # We define a model, using x and parameters. The self is here since we are working in a class\n",
    "\n",
    "    def model1(self,x, param1, param2, param3, etc):\n",
    "        # This def should return the function we would like to fit onto the data\n",
    "        return ................\n",
    "\n",
    "\n",
    "\n",
    "    # Here the actual fitting takes place. By providing x and y data, the optimize.curve_fit function\n",
    "    # returns us the optimal parameters (popt) and there covariance (parcov).\n",
    "    def evaluate(self):\n",
    "        params, parcov = optimize.curve_fit(self.model1, xdata=self.x, ydata=self.y)\n",
    "\n",
    "\n",
    "\n",
    "\n",
    "    # Now we still need some statement that evaluates the RMSE of the different models and\n",
    "    # prints them to the screen.       \n",
    "\n",
    "\n",
    "    \"\"\""
   ]
  },
  {
   "cell_type": "markdown",
   "metadata": {},
   "source": [
    "<h3> Exercise 2: Making a Graphical User Interface</h3>\n",
    "\n",
    "Okay, so we hope that you start feeling how OOP works and why it might be great. If you do not yet feel that way, once your program becomes larger and gets more functions, this really is the way to go.\n",
    "\n",
    "You will now built a GUI, using the package pyqtgraph: http://www.pyqtgraph.org/documentation/. Your GUI will have a window containing two elements. A graph and a button. In the backend this button should generate random data which will then be displayed / plotted in the graph. You already built some stuff.\n",
    "\n",
    "If you simply try to execute the program below as it is, it will not work since there is nothing yet to plot. Fix this and try it out! Next, you will see that it doesn't look very fancy. There is a file, called stylesheet.ui in which you can play around with quite a lot of aspects. Have a look at it and change some stuff. Some things you may want to change are the name of the button, the positioning of the widget (plot), adding axis labels and a title.\n",
    "\n",
    "<h4>2.1 To do:</h4>\n",
    "<ul>\n",
    "<li>Make the GUI plot the data you built before in the OOP exercise by defining a generateydata method</li>\n",
    "<li>Make the user interface a bit more convenient, make sure the size is right to view the graph</li>\n",
    "<li>Change the button text</li>\n",
    "<li>Add axis labels and title (hint: try to find out what the library behind the plotting is; of what class is PlotItem and PlotWidget a method?))</li>\n",
    "</ul>\n",
    "\n",
    "<b>Make sure you document and interpret all your experiments scientifically and provide the necessary data in your lab journal!</b>"
   ]
  },
  {
   "cell_type": "code",
   "execution_count": 6,
   "metadata": {
    "collapsed": true
   },
   "outputs": [],
   "source": [
    "# Here we update some stuff, since we use new packages\n",
    "from PyQt5.QtWidgets import QApplication, QMainWindow\n",
    "from PyQt5 import uic\n",
    "import random\n",
    "import sys\n",
    "import os\n",
    "import pyqtgraph as pg\n",
    "import numpy as np\n",
    "\n",
    "pg.setConfigOption('background', 'w')\n",
    "pg.setConfigOption('foreground', 'k')\n",
    "pg.setConfigOptions(antialias=True)"
   ]
  },
  {
   "cell_type": "code",
   "execution_count": 7,
   "metadata": {
    "collapsed": true
   },
   "outputs": [],
   "source": [
    "class GUI(QMainWindow):\n",
    "    # since QMainWindows already contains most of what is needed for a class, we make our class a child of QMainWindow\n",
    "    def __init__(self):\n",
    "        # We call the parent class, defined before (QMainWindow)\n",
    "        super(GUI, self).__init__()\n",
    "        \n",
    "        # The .ui file that we prepared for you contains info about the button\n",
    "        filename = \"stylesheet.ui\"\n",
    "        uic.loadUi(filename, self)\n",
    "        \n",
    "        # Don't mind about the ':' below this is only necessary for Linux systems\n",
    "        #self.plotWidget:pg.PlotWidget\n",
    "        \n",
    "        # Initialize your xdata, for example range(100)\n",
    "        self.xdata = np.arange(100)\n",
    "\n",
    "        # Add a method below that generates some ydata, such that the following line of code works:\n",
    "        self.ydata = self.generateydata()\n",
    "\n",
    "        # Connects the qt object plotWidget (in the user interface) to the pyqt-graph object plotItem (in this code)\n",
    "        self.plotItem=self.plotWidget.getPlotItem()\n",
    "        # Plots the x and y data to plotItem which was already connected to plotWidget\n",
    "        self.plotItem.plot(self.xdata,self.ydata, pen='k')\n",
    "        \n",
    "        # Upon the event of clicking the randomButton (in the user interface)\n",
    "        # the method plotnewdata (in this code) is executed\n",
    "        #\n",
    "        # Recognize the 'power' of OOP here!\n",
    "        self.randomButton.clicked.connect(self.plotnewdata)\n",
    "\n",
    "        # Show the interface\n",
    "        self.show()\n",
    "          \n",
    "    def plotnewdata(self):\n",
    "        \"\"\" This function is called upon pushing the button \"\"\"\n",
    "        # plot a new line (clear=1 clears the old line)\n",
    "        self.plotItem.plot(self.xdata,self.ydata,pen='k',clear=1)\n",
    "\n",
    "    # Define the necessary method generateydata below\n"
   ]
  },
  {
   "cell_type": "code",
   "execution_count": 8,
   "metadata": {
    "collapsed": true
   },
   "outputs": [
    {
     "ename": "AttributeError",
     "evalue": "'GUI' object has no attribute 'generateydata'",
     "output_type": "error",
     "traceback": [
      "\u001b[1;31m---------------------------------------------------------------------------\u001b[0m",
      "\u001b[1;31mAttributeError\u001b[0m                            Traceback (most recent call last)",
      "Cell \u001b[1;32mIn[8], line 7\u001b[0m\n\u001b[0;32m      4\u001b[0m \u001b[38;5;28;01melse\u001b[39;00m:\n\u001b[0;32m      5\u001b[0m     app \u001b[38;5;241m=\u001b[39m QApplication\u001b[38;5;241m.\u001b[39minstance()    \n\u001b[1;32m----> 7\u001b[0m window \u001b[38;5;241m=\u001b[39m GUI() \n\u001b[0;32m      9\u001b[0m \u001b[38;5;66;03m# Start the application\u001b[39;00m\n\u001b[0;32m     11\u001b[0m app\u001b[38;5;241m.\u001b[39mexec_()\n",
      "Cell \u001b[1;32mIn[7], line 18\u001b[0m, in \u001b[0;36mGUI.__init__\u001b[1;34m(self)\u001b[0m\n\u001b[0;32m     15\u001b[0m \u001b[38;5;28mself\u001b[39m\u001b[38;5;241m.\u001b[39mxdata \u001b[38;5;241m=\u001b[39m np\u001b[38;5;241m.\u001b[39marange(\u001b[38;5;241m100\u001b[39m)\n\u001b[0;32m     17\u001b[0m \u001b[38;5;66;03m# Add a method below that generates some ydata, such that the following line of code works:\u001b[39;00m\n\u001b[1;32m---> 18\u001b[0m \u001b[38;5;28mself\u001b[39m\u001b[38;5;241m.\u001b[39mydata \u001b[38;5;241m=\u001b[39m \u001b[38;5;28mself\u001b[39m\u001b[38;5;241m.\u001b[39mgenerateydata()\n\u001b[0;32m     20\u001b[0m \u001b[38;5;66;03m# Connects the qt object plotWidget (in the user interface) to the pyqt-graph object plotItem (in this code)\u001b[39;00m\n\u001b[0;32m     21\u001b[0m \u001b[38;5;28mself\u001b[39m\u001b[38;5;241m.\u001b[39mplotItem\u001b[38;5;241m=\u001b[39m\u001b[38;5;28mself\u001b[39m\u001b[38;5;241m.\u001b[39mplotWidget\u001b[38;5;241m.\u001b[39mgetPlotItem()\n",
      "\u001b[1;31mAttributeError\u001b[0m: 'GUI' object has no attribute 'generateydata'"
     ]
    }
   ],
   "source": [
    "# Here we check if a QApplication already exists. If not we create a new one.\n",
    "if not QApplication.instance(): \n",
    "    app = QApplication(sys.argv)\n",
    "else:\n",
    "    app = QApplication.instance()    \n",
    "\n",
    "window = GUI() \n",
    "\n",
    "# Start the application\n",
    "\n",
    "app.exec_() #for use in an interactive shell"
   ]
  },
  {
   "cell_type": "markdown",
   "metadata": {},
   "source": [
    "<h3> Exercise 3: Making a better Graphical user interface</h3>\n",
    "\n",
    "<h4>What a pain...</h4>\n",
    "\n",
    "As you might have seen in changing the GUI above (while changing the labels, the title, and the size, but maybe even more while changing the widget) this approach of manually editing the user interface is really annoying. As always in Python, there has been some great improvement in designing GUI's the last few years. In the exercise above, you were asked to change the stylesheet.ui file. This file does not come out of nowhere. It was built using QT Designer. This software is installed on your PC in Bachelor lab 2. Search for \"designer\" (type all of it since it is a command prompt thing) and run the program with QT in the logo left of it. Now, QT Designer will open (after some time..).\n",
    "\n",
    "You can select different objects. Select Main Windows and create. Widgets can be found on the left and you can slide widgets to the dialog screen.\n",
    "\n",
    "<h4>3.1 To do: try building the following GUI, and implement it in Python to make it work. </h4>\n",
    "<ul>\n",
    "<li>Make a GUI with two plot widgets. How to do this is written in the hints below. Do NOT use the MatplotlibWidget in QT.</li>\n",
    "<li>Make two buttons, one to refresh the left window and one to initialize a function which differentiates the data in the left figure and plots it in the right figure (this will be done later, so don't bother about it yet).</li>\n",
    "</ul>\n",
    "A nice idea is to plot a sine wave with random wavelength (thus sin(x*a) where a is random) on the left and find the differential on the right. This is easy to verify of course. Take advantage of the functions from exercise 2 to find out what functions to use to:\n",
    "<ol>\n",
    "<li>generate new y data,</li>\n",
    "<li>delete old y data,</li>\n",
    "<li>plot data in the 2 windows,</li>\n",
    "<li>connect the 2 buttons to the correct actions,</li>\n",
    "<BR>\n",
    "<li><i>add some other fancy stuff to your user interface like a radio button, text, colours or anything else you like.</i></li>\n",
    "</ol>\n",
    "    \n",
    "<h4>Hints</h4>\n",
    "<h5>Making plots</h5>\n",
    "QT designer has to work with pyqtgraph. Buttons have been implemented in QT designer in the same way as in pyqtgraph, so for buttons no extra steps are necessary.\n",
    "To make graphs or plots in QT designer you will have to embed the Graphics View widget from QT designer inside the pyqtgraph application http://pyqtgraph.org/documentation/how_to_use.html#embedding-widgets-inside-pyqt-applications:\n",
    "<ul>\n",
    "<li>In Designer, open a MainWindow.</li>\n",
    "<li>Create a Graphics View widget by dragging one into the MainWindow.</li>\n",
    "<li>Right-click on the Graphics View and select “Promote To…”.</li>\n",
    "<li>Set “Promoted class name” to “PlotWidget”.</li>\n",
    "<li>Under “Header file”, enter “pyqtgraph”.</li>\n",
    "<li>Click “Add”, then click “Promote”.</li>\n",
    "</ul>\n",
    "\n",
    "<h5>Saving</h5>\n",
    "Hit the File->Save As Template. Make sure you save it in the right directory and or move it to your working dir.\n",
    "\n",
    "<h5>Implementing in Python</h5>\n",
    "First, note that we now have two plot widgets. It is easy to keep QT Designer opened while doing this. Load your new .ui file to a COPY (below) of your GUI class from above. You will get something like:\n",
    "\n",
    "    uic.loadUi(\"MainWindow.ui\", self)\n",
    "\n",
    "Since we have two plot windows in the GUI which have different names than before, you will be proned to make an error. Check in QT Designer the names of the different plot objects and change the names in your program accordingly. e.g. If your first plot region is called \"graphicsView\" in QT Designer:\n",
    "\n",
    "    self.plotItem1=self.graphicsView.getPlotItem()\n",
    "\n",
    "Apply the same to the second plot, but remember to give it a new attribute name!\n",
    "\n",
    "You should do the same with your buttons, since these have new names as well. \n",
    "\n",
    "<h5>Differentiating</h5>\n",
    "Differentiating is most easily done using np.diff(array). Remind that the size of the difference array is one shorter than the original, thus alter your x-axis! (hint: [1:]). Make all buttons work and see prove that your program functions properly!\n",
    "\n",
    "<b>Make sure to write in the comments of every function what it does!! This is mostly done by starting the function with \"\"\"text\"\"\"</b>\n",
    "\n",
    "<b>Make sure you document and interpret all your experiments scientifically and provide the necessary data in your lab journal!</b>\n",
    "\n",
    "Show one of the teaching assistants your code is working properly."
   ]
  },
  {
   "cell_type": "code",
   "execution_count": null,
   "metadata": {
    "collapsed": true
   },
   "outputs": [],
   "source": [
    "class MyGUI(QMainWindow):\n",
    "    # since QMainWindows already contains most of what is needed for a class, we make our class a child of QMainWindow\n",
    "    def __init__(self):\n",
    "\n",
    "        super(MyGUI, self).__init__()\n",
    "\n",
    "        # Now use the .ui file that you created in designer\n",
    "        filename = \"mystylesheet.ui\"\n",
    "        uic.loadUi(filename, self)\n",
    "\n",
    "        # Don't mind about the ':' below this is only necessary for Linux systems\n",
    "        #self.plotWidget:pg.PlotWidget\n",
    "        \n",
    "        # Initialize your xdata and ydata\n",
    "        \n",
    "        # Connects the qt objects plotWidget_1 and 2 (in the user interface)\n",
    "        # to the pyqt-graph object plotItem_1 and 2 (in this code)\n",
    "        self.plotItem_1 = self.plotWidget_1.getPlotItem()\n",
    "        self.plotItem_2 = self.plotWidget_2.getPlotItem()\n",
    "\n",
    "        # Upon the event of clicking the randomButton_1 and 2 (in the user interface)\n",
    "        # the methods plotnewdata and generateydata (in this code) are executed\n",
    "        self.randomButton_1.clicked.connect(self.plotnewdata)\n",
    "        self.randomButton_2.clicked.connect(self.generateydata)\n",
    "        \n",
    "        # Add some other fancy stuff to your user interface like a radio button, text, colours or anything else you like.\n",
    "\n",
    "        self.show()\n",
    "\n",
    "    # Define the necessary methods plotnewdata and generateydata below\n"
   ]
  },
  {
   "cell_type": "code",
   "execution_count": null,
   "metadata": {
    "collapsed": true
   },
   "outputs": [],
   "source": [
    "# Here we check if a QApplication already exists. If not we create a new one.\n",
    "if not QApplication.instance(): \n",
    "    app = QApplication(sys.argv)\n",
    "else:\n",
    "    app = QApplication.instance()    \n",
    "\n",
    "window = MyGUI() \n",
    "\n",
    "# Start the application\n",
    "\n",
    "app.exec_() #for use in an interactive shell"
   ]
  },
  {
   "cell_type": "markdown",
   "metadata": {},
   "source": [
    "Now merge all your code into a Spyder program.\n",
    "<h4> That's it! If you've shown your work to the assistants and provided notes in your lab journal, you're done for the day!</h4>"
   ]
  },
  {
   "cell_type": "code",
   "execution_count": null,
   "metadata": {
    "collapsed": true
   },
   "outputs": [],
   "source": [
    "# Now play!\n"
   ]
  }
 ],
 "metadata": {
  "kernelspec": {
   "display_name": "Python 3",
   "language": "python",
   "name": "python3"
  },
  "language_info": {
   "codemirror_mode": {
    "name": "ipython",
    "version": 3
   },
   "file_extension": ".py",
   "mimetype": "text/x-python",
   "name": "python",
   "nbconvert_exporter": "python",
   "pygments_lexer": "ipython3",
   "version": "3.11.4"
  }
 },
 "nbformat": 4,
 "nbformat_minor": 2
}
