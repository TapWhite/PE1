{
 "cells": [
  {
   "attachments": {
    "Gaussian.png": {
     "image/png": "[encoded data removed]"
    }
   },
   "cell_type": "markdown",
   "metadata": {},
   "source": [
    "<h1> Welcome to the 3<sup>rd</sup> theory part for PE1!</h1>\n",
    "Many times we are only interested in the magnitude part of a signal with a certain frequency and want to know the intensity of the signal with a given frequency. We can do this using Fourier Transform and Parseval's theorem.\n",
    "\n",
    "As you might have noticed, if you do a fast fourier transform of a perfect sine wave, you do not get a perfect delta function, but something which has more resemblance of a Gaussian, like shown below:\n",
    "\n",
    "![Gaussian.png](attachment:Gaussian.png)\n",
    "\n",
    " The peak of this Gaussian does not give back the amplitude of the signal. We do however still want to get the intensity of this signal. To do this, we will use Parseval's theorem, which states\n",
    "\n",
    "$$\n",
    "    I \\propto \\int_{-\\infty}^{\\infty} |F(\\omega)|^2 d\\omega\n",
    "$$\n",
    "\n",
    "Where $I$ is the intensity or the power density of the signal and $F(\\omega)$ the Fourier transform of the signal. If we are only interested in the intensity of the part of the signal at a certain frequency, we can use\n",
    "\n",
    "$$\n",
    "    I(\\omega) \\propto \\int_{\\omega_i- \\Delta \\omega}^{\\omega_i + \\Delta \\omega} |F(\\omega_i)|^2 d\\omega\n",
    "$$\n",
    "\n",
    "Where we only integrate over a finite interval around some frequency $\\omega$ with width $2\\cdot\\Delta \\omega$. The goal for this theory part is to get the power, or intensity, from a fast Fourier transform."
   ]
  },
  {
   "cell_type": "code",
   "execution_count": 1,
   "metadata": {},
   "outputs": [
    {
     "name": "stdout",
     "output_type": "stream",
     "text": [
      "%pylab is deprecated, use %matplotlib inline and import the required libraries.\n",
      "Populating the interactive namespace from numpy and matplotlib\n"
     ]
    }
   ],
   "source": [
    "# Installs some basic functions\n",
    "\n",
    "%pylab inline\n",
    "#from matplotlib import pyplot as plt\n",
    "#import numpy as np\n",
    "\n",
    "import numpy as np\n",
    "import matplotlib.pyplot as plt\n",
    "from scipy import integrate"
   ]
  },
  {
   "cell_type": "markdown",
   "metadata": {},
   "source": [
    "<h3> Integrating over a discrete set of points</h3>\n",
    "The theory described in the introduction is of course only applicable to continuous signals. We are, however, dealing with discrete signals and therefore need to find a way to integrate over these signals. In the following cells, such a method is given."
   ]
  },
  {
   "cell_type": "code",
   "execution_count": 2,
   "metadata": {},
   "outputs": [],
   "source": [
    "\"\"\"\n",
    "The following function integrates over the whole set of datapoints, where x\n",
    "are the x values of your datapoints and y the y values.\n",
    "\"\"\"\n",
    "def integral(x,y):\n",
    "    #integral functions from scipy will be used to integrate over the datapoints\n",
    "    return integrate.trapz(y, x)"
   ]
  },
  {
   "cell_type": "code",
   "execution_count": 3,
   "metadata": {},
   "outputs": [
    {
     "name": "stdout",
     "output_type": "stream",
     "text": [
      "110.0\n"
     ]
    }
   ],
   "source": [
    "#Define the rate and the amount of sample points\n",
    "rate = 500\n",
    "samples = 5000\n",
    "\n",
    "#Create the time data array\n",
    "t = np.linspace(0, samples/rate, samples)\n",
    "\n",
    "#Create an artificial signal\n",
    "signal = 2*t+1\n",
    "\n",
    "#Get the total surface underneath the signal\n",
    "#(In other words, integrate the signal)\n",
    "integratedSignal = integral(t,signal)\n",
    "\n",
    "\"\"\"\n",
    "Check if the value corresponds with the integral of 2x+1 from 0 to 10.\n",
    "\"\"\"\n",
    "print(integratedSignal)"
   ]
  },
  {
   "cell_type": "markdown",
   "metadata": {},
   "source": [
    "<h3> Getting the power</h3>\n",
    "We can use this integration method to get the power at a specific frequency from the fast Fourier transform. This gives us a nice approximation for the intensity at a certain frequency."
   ]
  },
  {
   "cell_type": "code",
   "execution_count": 4,
   "metadata": {},
   "outputs": [],
   "source": [
    "\"\"\"\n",
    "Function to get the power.\n",
    "\n",
    "freqs is the array with frequencies\n",
    "fft is the array with the fft values\n",
    "\n",
    "f is the frequency at which you want to get the power\n",
    "delta_f is the width of the interval over which you want to integrate\n",
    "\"\"\"\n",
    "def power(freqs, fft, f, delta_f):\n",
    "    \"\"\"\n",
    "    Get the integration interval, this is a boolean array of frequencies, which\n",
    "    is true when a frequency is inside the interval and false otherwise. This is used\n",
    "    to find the frequencies over which we need to integrate.\n",
    "    \"\"\"\n",
    "    interval = (freqs > f - delta_f) & (freqs < f + delta_f)\n",
    "    \n",
    "    #get the power by integrating over the interval\n",
    "    power = integral(freqs[interval], np.abs(fft[interval])**2)\n",
    "    \n",
    "    return power"
   ]
  },
  {
   "cell_type": "code",
   "execution_count": null,
   "metadata": {},
   "outputs": [],
   "source": [
    "#Here follows an example for the power density signal\n",
    "\n",
    "#Create an artificial signal\n",
    "signal2 = np.sin(2*np.pi*10*t) + 0.5*np.sin(2*np.pi*15*t) + 0.2*np.sin(2*np.pi*18*t)\n",
    "\n",
    "plt.plot(t, signal2)\n",
    "plt.xlabel(\"Time\")\n",
    "plt.ylabel(\"Amplitude\")\n",
    "plt.title(\"Amplitude vs Time\")\n",
    "plt.xlim(0, 1)\n",
    "plt.show()\n",
    "\n",
    "#Do a fast fourier transform\n",
    "fft = np.fft.fft(signal2)\n",
    "freqs = np.fft.fftfreq(len(signal2), 1/rate)\n",
    "\n",
    "plt.plot(freqs, np.abs(fft))\n",
    "plt.xlabel(\"Frequency\")\n",
    "plt.ylabel(\"Magnitude\")\n",
    "plt.title(\"Magnitude vs frequency\")\n",
    "plt.xlim(0, 20)\n",
    "plt.show()\n",
    "\n",
    "\"\"\"\n",
    "We want to get the power of each individual peak. We know that we have peaks at\n",
    "10 Hz, 15Hz and 18Hz. It is important that we chose our delta_f correctly, such that the\n",
    "integration interval includes a whole peak, but does not contain any other peak. Choosing\n",
    "delta_f = 1 is sufficient in this case.\n",
    "\"\"\"\n",
    "\n",
    "#Getting the power densities:\n",
    "\n",
    "power10Hz = power(freqs, fft, 10, 1)\n",
    "print(\"Power at 10Hz = \", power10Hz)\n",
    "\n",
    "power15Hz = power(freqs, fft, 15, 1)\n",
    "print(\"Power at 15Hz = \", power15Hz)\n",
    "\n",
    "power18Hz = power(freqs, fft, 18, 1)\n",
    "print(\"Power at 18Hz = \", power18Hz)\n",
    "\n",
    "\"\"\"\n",
    "Check if the ratios between the power correspond to the ratios between the\n",
    "amplitudes of the different sine waves. \n",
    "\n",
    "Tip: What is the relation between power (intensity) and amplitude?\n",
    "\"\"\""
   ]
  },
  {
   "cell_type": "code",
   "execution_count": null,
   "metadata": {},
   "outputs": [],
   "source": []
  }
 ],
 "metadata": {
  "kernelspec": {
   "display_name": "base",
   "language": "python",
   "name": "python3"
  },
  "language_info": {
   "codemirror_mode": {
    "name": "ipython",
    "version": 3
   },
   "file_extension": ".py",
   "mimetype": "text/x-python",
   "name": "python",
   "nbconvert_exporter": "python",
   "pygments_lexer": "ipython3",
   "version": "3.11.4"
  }
 },
 "nbformat": 4,
 "nbformat_minor": 2
}
