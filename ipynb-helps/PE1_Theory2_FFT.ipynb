{
 "cells": [
  {
   "cell_type": "markdown",
   "metadata": {},
   "source": [
    "<h1> Welcome to the 2<sup>nd</sup> theory part for PE1!</h1>\n",
    "\n",
    "You are probably used to looking at signals in the time domain. However, many information about a signal can be found in the frequency domain. It is therefore important that you are able to do a discrete Fourier Transform on your data points. Today you will learn how to do that using python."
   ]
  },
  {
   "cell_type": "code",
   "execution_count": null,
   "metadata": {},
   "outputs": [],
   "source": [
    "# Installs some basic functions\n",
    "\n",
    "%pylab inline\n",
    "#from matplotlib import pyplot as plt\n",
    "#import numpy as np\n",
    "\n",
    "import numpy as np\n",
    "import matplotlib.pyplot as plt"
   ]
  },
  {
   "cell_type": "markdown",
   "metadata": {},
   "source": [
    "<h3> Complex numbers in python </h3>\n",
    "When you do a discrete Fourier transform on datapoints with real values, a set of complex numbers can come out. Python can handle complex numbers in the following way:"
   ]
  },
  {
   "cell_type": "code",
   "execution_count": null,
   "metadata": {},
   "outputs": [],
   "source": [
    "\n",
    "#The complex number i is given by a j in python\n",
    "z = 3 + 4j\n",
    "print(\"z = \", z)\n",
    "\n",
    "#Get the real part of a complex number\n",
    "a = np.real(z)\n",
    "print(\"Re(z) = \", a)\n",
    "\n",
    "#Get the imaginary part of a complex number\n",
    "b = np.imag(z)\n",
    "print(\"Im(z) = \", b)\n",
    "\n",
    "#Get the magnitude of a complex number\n",
    "r = np.abs(z)\n",
    "print(\"|z| = \", r)\n",
    "\n",
    "#Get the argument of a complex number in radians\n",
    "phi = np.angle(z)\n",
    "print(\"arg(z) = \", phi)\n"
   ]
  },
  {
   "cell_type": "markdown",
   "metadata": {},
   "source": [
    "<h3> Fast Fourier Transform </h3>\n",
    "In the lectures of PE1, you probably heard about the discrete Fourier Transform, with which you can fourier transform a discrete set of points. The problem with this fourier transform, is that the algorithm is computationally expensive for large datasets. Therefore, instead of working with a DFT, we will be using the fast Fourier Transform (FFT), which is an efficient algorithm which approximates the DFT. In the following cells, there will be a short introduction on how to use the FFT."
   ]
  },
  {
   "cell_type": "code",
   "execution_count": null,
   "metadata": {},
   "outputs": [],
   "source": [
    "#Define the rate and the amount of sample points\n",
    "rate = 500\n",
    "samples = 5000\n",
    "\n",
    "#Create the time data array\n",
    "t = np.linspace(0, samples/rate, samples)\n",
    "\n",
    "#Artifically create a signal, in this case a sine wave\n",
    "frequency = 5\n",
    "signal = np.sin(2*np.pi * frequency * t)\n",
    "\n",
    "\"\"\"\n",
    "With the following functions you get the fast Fourier transform and \n",
    "the corresponding frequencies of a signal with a certain sample rate.\n",
    "\"\"\"\n",
    "#Get the fast Fourier transform by using the fft module in numpy\n",
    "fft = np.fft.fft(signal)\n",
    "\n",
    "#Get the corresponding frequencies\n",
    "freqs = np.fft.fftfreq(len(signal), 1/rate)\n",
    "\n",
    "\"\"\"\n",
    "Remember that the DFT return complex numbers, so does the FFT. We can\n",
    "however not easily plot a complex number against the frequency. Therefore,\n",
    "We will be looking at two plots. One with the magnitude information, and\n",
    "one with the phase information.\n",
    "\"\"\"\n",
    "plt.plot(freqs, np.abs(fft))\n",
    "plt.xlabel(\"Frequency\")\n",
    "plt.ylabel(\"Magnitude\")\n",
    "plt.title(\"Magnitude vs frequency\")\n",
    "plt.xlim(-20, 20)\n",
    "plt.show()\n",
    "\n",
    "\"\"\"\n",
    "We want an angle between 0 and 2pi, therefore we take the angle modulo \n",
    "2pi. The points are also scattered instead of plotted. This is because\n",
    "the points are not ordened. (You can try to plot the points to see \n",
    "what happens.)\n",
    "\"\"\"\n",
    "plt.scatter(freqs, np.mod(np.angle(fft), 2*np.pi))\n",
    "plt.xlabel(\"Frequency\")\n",
    "plt.ylabel(\"Phase\")\n",
    "plt.title(\"Phase vs frequency\")\n",
    "plt.xlim(-20, 20)\n",
    "plt.show()\n",
    "\n",
    "\"\"\"\n",
    "Try to see if you can find the relation between the plots\n",
    "and the signal.\n",
    "\"\"\""
   ]
  },
  {
   "cell_type": "markdown",
   "metadata": {},
   "source": [
    "<h3>Bode plots</h3>\n",
    "In the case of a simple signal, such as one sine wave, it is sufficient to plot the magnitude, phase and frequency on a linear scale. In many signals however, we want to see the information distributed over multiple ordes of magnitude. In these cases, we want to use logarithmic scales. Such plots with logarithmic scales are called Bode plots."
   ]
  },
  {
   "cell_type": "code",
   "execution_count": null,
   "metadata": {},
   "outputs": [],
   "source": [
    "#Artifically create the following signal\n",
    "signal2 = 0.01*np.sin(2*np.pi*10*t) + 0.1*np.sin(2*np.pi*100*t + 3) + 10*np.cos(2*np.pi*50*t)\n",
    "\n",
    "#Fast fourier transform of signal\n",
    "fft2 = np.fft.fft(signal2)\n",
    "freqs2 = np.fft.fftfreq(len(signal2), 1/rate)\n",
    "\n",
    "\"\"\"\n",
    "We firstly only have to look at the values with positive frequencies\n",
    "since the fourier transform is symmetric around the y-axis\n",
    "\"\"\"\n",
    "freqs2 = freqs2[:int(len(freqs2)/2)]\n",
    "fft2 = fft2[:int(len(fft2)/2)]\n",
    "\n",
    "#Now plot the magnitude and frequency on a linear scale\n",
    "plt.plot(freqs2, np.abs(fft2))\n",
    "plt.xlabel(\"Frequency\")\n",
    "plt.ylabel(\"Magnitude\")\n",
    "plt.title(\"Magnitude vs frequency (Linear scale)\")\n",
    "plt.show()\n",
    "\n",
    "#Plot the magnitude and frequency on a logarithmic scale\n",
    "plt.semilogx(freqs2, 20*np.log10(np.abs(fft2)))\n",
    "plt.xlabel(\"Frequency\")\n",
    "plt.ylabel(\"Magnitude (dB)\")\n",
    "plt.title(\"Magnitude vs frequency (Bode plot)\")\n",
    "plt.show()\n",
    "\n",
    "\"\"\"\n",
    "In which plot can you see the most information about the signal?\n",
    "\"\"\"\n",
    "\n",
    "#We will do the same with the phase information\n",
    "plt.semilogx(freqs2, np.mod(np.angle(fft2), 2*np.pi), '.')\n",
    "plt.xlabel(\"Frequency\")\n",
    "plt.ylabel(\"Phase\")\n",
    "plt.title(\"Phase vs frequency\")\n",
    "plt.show()"
   ]
  },
  {
   "cell_type": "code",
   "execution_count": null,
   "metadata": {},
   "outputs": [],
   "source": [
    "#You can easily save and load numpy arrays using the numpy functions 'load' and 'save'\n",
    "data = np.array([3,4,5,6,7,8,9,0])\n",
    "np.save(file=\"data.npy\", arr = data)\n",
    "\n",
    "read = np.load(\"data.npy\")\n",
    "print(\"The following array was read from \\\"data.npy\\\" :\"+ str(read)+ \"\\n\")\n",
    "\n",
    "#Getting the indices of the peaks of the fft using argrelextrema:\n",
    "from scipy.signal import argrelextrema\n",
    "\n",
    "\"\"\"\n",
    "Argrelextrema takes the array, a comparitor (np.greater to find peaks or np.less for lows)\n",
    "and an order. You can play around with the order to find out what it does.\n",
    "\"\"\" \n",
    "\n",
    "#Get the indices of the peaks\n",
    "peak_indices = argrelextrema(fft2, np.greater, order=100)[0]\n",
    "print(\"argrelextrema found peaks at indices: \" + str(peak_indices))"
   ]
  },
  {
   "cell_type": "markdown",
   "metadata": {},
   "source": [
    "<h3>Inverse Fast Fourier Transform </h3>\n",
    "Sometimes, we want to fourier transform a signal, modify this signal in the frequency domain and then convert the signal back to the time domain. This can be done using a inverse Fast Fourier Transform."
   ]
  },
  {
   "cell_type": "code",
   "execution_count": null,
   "metadata": {},
   "outputs": [],
   "source": [
    "#We will do an inverse FFT on the fourier transform of our first signal\n",
    "#using the fft module in numpy\n",
    "signal = np.fft.ifft(fft)\n",
    "\n",
    "plt.plot(t, signal)\n",
    "plt.xlabel('Time')\n",
    "plt.ylabel('Amplitude')\n",
    "plt.title('Amplitude vs time')\n",
    "plt.xlim(0,1)\n",
    "plt.show()"
   ]
  },
  {
   "cell_type": "code",
   "execution_count": null,
   "metadata": {},
   "outputs": [],
   "source": []
  }
 ],
 "metadata": {
  "kernelspec": {
   "display_name": "Python 3",
   "language": "python",
   "name": "python3"
  },
  "language_info": {
   "codemirror_mode": {
    "name": "ipython",
    "version": 3
   },
   "file_extension": ".py",
   "mimetype": "text/x-python",
   "name": "python",
   "nbconvert_exporter": "python",
   "pygments_lexer": "ipython3",
   "version": "3.6.5"
  }
 },
 "nbformat": 4,
 "nbformat_minor": 2
}
