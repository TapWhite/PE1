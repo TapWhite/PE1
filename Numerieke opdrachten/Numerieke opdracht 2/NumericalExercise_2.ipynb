{
 "cells": [
  {
   "cell_type": "markdown",
   "id": "7973f82c-39a1-471c-92fa-bb02e4d77496",
   "metadata": {},
   "source": [
    "# 1 Numerical exercise: Mechanical systems\n",
    "## 1.1 Newton's laws of motion\n",
    "In classical mechanics, Newton's laws of motion describe the relationship between a body and the forces acting upon it, and its motion in response to those forces. We assume that we are working in an intertial frame of reference and that the mass $m$ is constant and non-zero. This will be the basis for formulating the mechanical response where Newton's laws play a role similar to Kirchhoff's circuit laws in electronics. The (time-dependent) external force acting on the circuit is often considered to be the input, while the response of the system is the motion $x(t)$ of (part of) the system[<sup id=\"fn1-back\">1</sup>](#fn1).\n",
    "\n",
    "**Newton's first law:** In an inertial frame of reference, an object either remains at rest or continues to move at a constant velocity, unless acted upon by a force. Mathematically we find\n",
    "$$ \\sum_k \\vec{F}_k = 0 \\iff \\frac{d\\vec{v}}{dt} = \\ddot{\\vec{x}}(t) = 0$$\n",
    "\n",
    "**Newton's second law:** In an inertial frame of reference, the vector sum of the forces $\\vec{F}$ on an object is equal to the mass $m$ of that object multiplied by the acceleration $\\vec{a}$ of the object.\n",
    "$$ \\vec{F} = \\frac{\\vec{p}}{dt}, $$\n",
    "where $\\vec{p} = m(t)\\vec{v}(t)$ is the momentum of the particle. If the mass $m$ is constant this simplifies to \n",
    "$$ \\vec{F} = m\\frac{d\\vec{v}}{t} = m\\ddot{\\vec{x}}(t) $$\n",
    "\n",
    "**Newton's third law:** This law is sometimes refered to as the action-reaction law and states that all forces between two objects exist in equal magnitude and opposite direction. The third law means that all forces are interactions between bodies, or different regions within one body.\n",
    "\n",
    "## 1.2 One-dimensional harmonic oscillator\n",
    "As an example, consider the equation of motion for an oscillating mass $m$ attached to a spring with force constant $k$. Our goal is to describe the response of $x(t)$ of the mass to an arbitrary external force. We first solve the problem without damping and without external forces ($F = 0$). The linear differential equation describing the motion of the mass is given by Newton's second law:\n",
    "$$ F = m\\ddot{x}(t) + kx(t) = 0. $$\n",
    "An obvious solution to this system is given by a harmonic function\n",
    "$$ x(t) = A \\sin(\\omega_0 t), $$\n",
    "where $A$ is the amplitude of the motion and $\\omega_0$ is the natural frequency of the oscillator that can be found by inserting the solution into the differential equation:\n",
    "$$ \\omega_0 = \\sqrt{\\frac{k}{m}}. $$\n",
    "This obvious solution is very important for our intuition of simple mechanical oscillators because we know from experience that the oscillator will tend to oscillate at a frequency close to $\\omega_0$ even when given an abrupt push to the oscillator, or if we shake it in a more or less random fashion. The proper mathematical tool that connects this intuition is the response function $H(\\omega)$ of the mechanical system that describes the system response in the frequency domain instead of the more familiar time doman.\n",
    "\n",
    "We analyze the much more general case of a damped and driven harmonic oscillator. The mass $m$ is suspended by a spring with force constant $k$, the damping is assumed to be proportional to the velocity $\\dot{x}(t)$ with damping coefficient $c$, and the mass is driven by a time-dependent external force $F(t)$. The amplitude of the motion $x(t)$ is described by a differential equation (Newton's second law):\n",
    "<a id=\"eq:EoM\"></a>\n",
    "\\begin{equation}\n",
    "    F(t) = m\\ddot{x}(t) + c\\dot{x}(t) + kx(t).\n",
    "    \\tag{1}\n",
    "\\end{equation}\n",
    "If we now Fourier Transform [eq.1](#eq:EoM) and use the rules for the Fourier Transform of the derivative we find\n",
    "<a id=\"eq:EoM_FT\"></a>\n",
    "$$ F(\\omega) = -m\\omega^2 X(\\omega) + i\\omega cX(\\omega) + kX(\\omega).\\tag{2} $$\n",
    "\n",
    "### 1.2.1 Mechanical-electrical analogies\n",
    "Let us consider an electrical circuit with a resistor $R$, capacitor $C$ and inductor $L$ connected in series, driven by a voltage source that generates a time-dependent voltage $u(t)$.\n",
    "\n",
    "When we apply Kirchhoff's voltage law for this closed loop, we find that the total voltage as a function of time should be equal to the sum of the voltages over each component\n",
    "$$ u(t) = u_R(t) + u_C(t) + u_L(t).$$\n",
    "The response of each of these compnents to an external current $i(t)$ is known, which allows the formulation of a differential equation that describes the system:\n",
    "<a id=\"eq:electronical\"></a>\n",
    "$$ u(t) = Ri(t) + L\\frac{di(t)}{dt} + \\frac{1}{C}\\int_{-\\infty}^t i(t')dt', \\tag{3}$$\n",
    "or equivalently\n",
    "<a id=\"eq:electronical_time\"></a>\n",
    "$$ \\frac{du(t)}{dt} = L\\frac{d^2i(t)}{dt^2} + R\\frac{di(t)}{dt} + frac{1}{C}i(t). \\tag{4}$$\n",
    "If we transform this equation to the Fourier domain, we obtain\n",
    "$$ U(\\omega) = i\\omega LI(\\omega) + RI(\\omega) + \\frac{1}{i\\omega C}I(\\omega). \\tag{5} $$\n",
    "If we compare this result with equations [1](#eq:EoM) and [2](#eq:EoM_FT), we immediately see that these equations are similar second order differential equations. We can come to the idea that the dynamics of a mechanical system is analogous to an electronical circuit. THere are multiple ways to create such an anlogy, but the most standard one introduces the charge $Q(t)$, with the current in an electrical circuit being the time derivative of the charge: $i(t) = \\dot{Q}(t).$ In terms of the charge, equation [4](#eq:electronical_time) can be written as\n",
    "$$ V(t) = L\\ddot{Q}(t) + R\\dot{Q}(t) + \\frac{1}{C}Q(t). \\tag{6} $$\n",
    "The advantages of this analogy is that the applied voltage $V(t)$ plays a similar role as the external force $F(t)$ and we could define a mechanical impedance similar to the complex impedance of the electrical components. This analogy implies that we can solve the response of a mechanical system to an external force by building an equivalent circuit[<sup id=\"fn2-back\">2</sup>](#fn2). Below is a list of mechanical and electrical quantities that are equivalent in this analogy. For more information on this analogy and the use of the concept of mechanical impedance, see [https://en.wikipedia.org/wiki/Impedance_analogy](https://en.wikipedia.org/wiki/Impedance_analogy).\n",
    "\n",
    "\n",
    "| Mechanical                                  | Electronical                        |\n",
    "|---------------------------------------------|-------------------------------------|\n",
    "| energy (work) $\\int F(t)\\dot{x}\\mathrm{d}t$ | energy $\\int V(t)I(t) \\mathrm{d}t $ |\n",
    "| external force $F(t)$                       | applied voltage $V(t)$              |\n",
    "| position $x(t)$                             | charge $Q(t)$                       |\n",
    "| velocity $v(t)=\\dot{x}(t)$                  | current $I(t)=\\dot{Q}(t)$           |\n",
    "| mass $m$                                    | inductance $L$                      |\n",
    "| damping $c$                                 | resistance $R$                      |\n",
    "| compliance $\\frac{1}{k}$                    | capacitance $C$                     |\n",
    "\n",
    "\n",
    "\n",
    "[<sup id=\"fn1\">1</sup>](#fn1-back) <small>A more modern approach, that remains valid outside the scope of classical mechanics, is to use conservation laws of energy, momentum, and angular momentum. The total time derivative of a conserved quantity is equal to zero and defines an equation of motion for the system</small><br>\n",
    "[<sup id=\"fn2\">2</sup>](#fn2-back) <small>Note that this circuit will be the dual of the electronical circuit, i.e., if the electrical components are in series, the mechanical components are in parallel; [https://en.wikipedia.org/wiki/Impedance_analogy](https://en.wikipedia.org/wiki/Impedance_analogy)</small>\n",
    "\n",
    "---"
   ]
  },
  {
   "cell_type": "markdown",
   "id": "3bc8b42e",
   "metadata": {},
   "source": [
    "## 1.3 Response function of a mechanical system\n",
    "**Exercise 1.** *Transfer function of a cup on an elastic cord*\n",
    "\n",
    "We consider a simple harmonic oscillator system of a cup suspended by an elastic cord (spring) (see [figure 1](#figure_1))\n",
    "\n",
    "<figure>\n",
    "    <img src=\"data:image/png;base64,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\"/>\n",
    "    <figcaption><a id=\"figure_1\"></a><b>Figure 1</b>: Schematic overview of a cup suspended by an elastic cord.</figcaption>\n",
    "</figure>\n",
    "\n",
    "This construction allows a person to hold one end of the spring and move the mounting point up and down to exert a force on the mass-spring system. The motion of the mounting point is given by the function $s(t)$.\n",
    "\n",
    "The cup has mass $m$ and the elastic cord has a spring constant $k$. The resonance frequency $f_r$ of the system without driving and damping is\n",
    "$$ f_r = \\frac{\\omega_r}{2\\pi} = \\frac{1}{2\\pi}\\sqrt{\\frac{k}{m}}. $$\n",
    "We add damping to the system using a term proportional to the velocity with a damping coefficient $c = \\frac{k}{Q\\omega_r}$.\n",
    "\n",
    "<span style=\"vertical-align: top;\">**(a)**</span>\n",
    "<span style=\"display: inline-block; width: calc(100% - 50px); margin-left: 20px;\">\n",
    "Use the position of the cup $x(t)$ and the position of the mounting point $s(t)$ to write a differential equation that correctly describes the motion of the cup. <br> <b>Hint:</b> Make an overview of all the forces acting on the cup and use Newton's second law. The gravitational force is counteracted by the force of the spring. Together they create a spring that works both ways, i.e. for positive and negative $x$. \n",
    "</span>\n",
    "\n"
   ]
  },
  {
   "cell_type": "code",
   "execution_count": null,
   "id": "96cee978",
   "metadata": {},
   "outputs": [],
   "source": []
  },
  {
   "cell_type": "markdown",
   "id": "83e825eb",
   "metadata": {},
   "source": [
    "We can now take the Fourier Transform of the differential equation an introduce the Fourier Transform of $x(t)$ and $s(t)$ as $X(\\omega)$ and $S(\\omega)$, respectively. After this operation we are left wih an algebraic equation for each $\\omega$. In the Fourier domain, we can anlyse the response at each frequency independently. The **transfer function** $H(\\omega) = \\frac{X(\\omega)}{S(\\omega)}$ is an important complex-valued function.\n",
    "\n",
    "<span style=\"vertical-align: top;\">**(b)**</span>\n",
    "<span style=\"display: inline-block; width: calc(100% - 50px); margin-left: 20px;\">\n",
    "Determine the transfer function $H(\\omega)$ as a function of $\\omega$ by making use of the differential equation.\n",
    "</span>"
   ]
  },
  {
   "cell_type": "code",
   "execution_count": null,
   "id": "441d103b",
   "metadata": {},
   "outputs": [],
   "source": []
  },
  {
   "cell_type": "markdown",
   "id": "f0416c6c",
   "metadata": {},
   "source": [
    "<span style=\"vertical-align: top;\">**(c)**</span>\n",
    "<span style=\"display: inline-block; width: calc(100% - 50px); margin-left: 20px;\">\n",
    "Express the damping coefficient $c$ in terms of the quality factor $Q$, force constant $k$, and mass $m$. The $Q$-factor indicates the number of oscillations before the amplitude is damped to $1/e$ of the original value. It is easier to build your intuition using this $Q$ as a relative measure of the damping.\n",
    "</span>"
   ]
  },
  {
   "cell_type": "code",
   "execution_count": null,
   "id": "1bad36e3",
   "metadata": {},
   "outputs": [],
   "source": []
  },
  {
   "cell_type": "markdown",
   "id": "16d65060",
   "metadata": {},
   "source": [
    "We now study the motion of the cup when the mounting point is moved up and down at constant speed to create a triangular wave for the function $s(t)$. The amplitude of the motion is 1.0 cm and the frequency $f_s$ with which the mounting point is moved op and down is $\\frac{1}{3}$ the resonance frequency\n",
    "$$ f_s = \\frac{f_r}{3} \\iff \\omega_s = \\frac{\\omega_r}{3}.$$\n",
    "The triangular wave $s(t)$ is given by\n",
    "\\begin{equation}\n",
    "s(t) = \n",
    "    \\begin{cases}\n",
    "        A\\left(1 - 4f_s t\\right) & \\left(0 \\leq t < \\frac{1}{2f_s}\\right)\\\\\n",
    "        A\\left(-3 + 4f_s t\\right) & \\left(\\frac{1}{2f_s} \\leq t < \\frac{1}{f_s}\\right)\n",
    "    \\end{cases}\n",
    "\\end{equation}\n",
    "\n",
    "<span style=\"vertical-align: top;\">**(d)**</span>\n",
    "<span style=\"display: inline-block; width: calc(100% - 50px); margin-left: 20px;\">\n",
    "Determine the complex Fourier coefficients $c_n$ of the triangular wave. <br>\n",
    "<b>Hints:<b><br>\n",
    "* Limit yourself to odd values of $n$ by showing that the Fourier coefficients $c_n$ are zero for even $n$\n",
    "* Use the symmetry of the triangular wave to limit yourself to calculating the integral for $0\\leq t < \\frac{1}{2f_s}$. For odd $n$ the two integrals give the same result.\n",
    "* The Fourier coefficients (for odd $n$) should be proportional to $\\frac{1}{n^2}$.\n",
    "</span>\n"
   ]
  },
  {
   "cell_type": "code",
   "execution_count": null,
   "id": "4352c7ae",
   "metadata": {},
   "outputs": [],
   "source": []
  },
  {
   "cell_type": "markdown",
   "id": "b28f92da",
   "metadata": {},
   "source": [
    "<span style=\"vertical-align: top;\">**(e)**</span>\n",
    "<span style=\"display: inline-block; width: calc(100% - 50px); margin-left: 20px;\">\n",
    "Find the amplitude of the Fourier components for $n=1,3,5$ and determine the frequencies that belong to these Fourier coefficients.\n",
    "</span>"
   ]
  },
  {
   "cell_type": "code",
   "execution_count": null,
   "id": "2057c2f4",
   "metadata": {},
   "outputs": [],
   "source": []
  },
  {
   "cell_type": "markdown",
   "id": "b12dbd15",
   "metadata": {},
   "source": [
    "<span style=\"vertical-align: top;\">**(f)**</span>\n",
    "<span style=\"display: inline-block; width: calc(100% - 50px); margin-left: 20px;\">\n",
    "Determine the value of $H(\\omega)$ for the frequencies $f_1, f_3, f_5$. Simplify the denominator by ignoring the smallers terms (proportional to $\\frac{1}{Q}$ in the denominator).\n",
    "</span>\n"
   ]
  },
  {
   "cell_type": "code",
   "execution_count": null,
   "id": "b2d3a0a7",
   "metadata": {},
   "outputs": [],
   "source": []
  },
  {
   "cell_type": "markdown",
   "id": "9206fc10",
   "metadata": {},
   "source": [
    "<span style=\"vertical-align: top;\">**(g)**</span>\n",
    "<span style=\"display: inline-block; width: calc(100% - 50px); margin-left: 20px;\">\n",
    "Use your answers to sketch the solution of $x(t)$ for each of the frequencies separately and use this to sketch an approximate version of the total solution $x(t)$.\n",
    "</span>\n",
    "\n",
    "---\n",
    "\n",
    "By doing the exercise with the cup we have formulated an answer to the response of the cup in the frequency domain, and by doing so we could write the response as an infinite sum over harmonic frequencies in the time domain. To this end we need to determine the Fourie rcoefficients of the driving force $F(t)$ or the amplitude $s(t)$. In principle these coefficients can be found for any periodic function if we rely on the fact that the Fourier Series exists and is unique, i.e. we assume that the Fourier Series is convergent.\n",
    "\n",
    "Similarly, for a non-periodic driving, one could either simulate the system as being periodic by choosing the periodicity longer than any relevant time scale, or by creating a similar expression where the summation is replaced by an appropriate Fourier integral. For both cases, a reasonable expression (non-diverging) can only be found if there is damping in the system. A finite (non-zero) damping coefficient sets an upper limit to the time scale in the system and ensures that the amplitude of the system remains finite. For a resonant system, the amplitude on resonance increases by a factor $Q$. This can be seen directly from the denominator of the transfer function $H(\\omega)$, as there is no real-valued angular frequency $\\omega$ for which the denominator becomes zero. This is equivalent to saying that the poles of the transfer function in the complex plane are not on the real-axis. \n",
    "\n",
    "Instead of writing an integral expression or summation for the solution, it is often preferred to visualize the transfer function $H(\\omega)$ by creating Bode plots of the amplitude $\\left|H(\\omega)\\right|$ and phase $\\phi(\\omega)$. By comparing the Bode plot wih a plot of the Fourier Transform or Fourier Series of the driving force $F(t)$ or the amplitude $s(t)$, one can predict how the system reacts. Often, the quality factor, an estimate of the resonance frequency, and the important frequencies in the driving suffice for a rough intuitive estimate. A complete picture, for an arbitrary driving is best computed numerically by implementing a numerical Fourier Transform of the driving in combination with the analytical transfer function of the system derived by Fourier Transforming the differential equation. This route involves multiple steps and requires two RFourier Transforms to get the final answer, and therefore seems a bit cumbersome. However, the steps in the process are easier and more tracable than direct (numerical) integration of the differential equation.\n",
    "\n",
    "---"
   ]
  },
  {
   "cell_type": "code",
   "execution_count": null,
   "id": "c1c7d651",
   "metadata": {},
   "outputs": [],
   "source": []
  },
  {
   "cell_type": "markdown",
   "id": "ba4f78fc",
   "metadata": {},
   "source": [
    "**Exercise 2.** *Numerical implementation*\n",
    "The purpose of this exercise is to numerically compute the response of a mass on a spring system. To somewhat simplify the system, we replace the driving motion $s(t)$ by a periodic force $F(t)$ that acts on the cup.\n",
    "\n",
    "The cup has mass $m$ and the elastic cord has a spring constant $k$. The resonant frequency of the system is\n",
    "$$ f_r = \\frac{\\omega_r}{2\\pi} = \\frac{1}{2\\pi}\\sqrt{\\frac{k}{m}}. $$\n",
    "The system is damped, with a term proportional to the velocity $\\dot{x}(t)$, with a damping coefficient $R$. The relation between the damping coefficient $R$, the resonance frequency $\\omega_r$, and the quality factor $Q$ is given by\n",
    "$$ \\frac{R}{k} = \\frac{1}{Q\\omega_r}. $$\n",
    "The transfer function of this system is given by\n",
    "$$\n",
    "H(\\omega) = \\frac{X(\\omega)}{F(\\omega)} = \\frac{1/k}{1 + \\frac{i\\omega}{Q\\omega_r} - \\left(\\frac{\\omega}{\\omega_r}\\right)^2}.\n",
    "$$\n",
    "To avoid numerical issues, it is good practice to keep all computed numbers to be of order one. For the rest of this exercise, we assume that the spring constant is $k=1$.\n",
    "\n",
    "<span style=\"vertical-align: top;\">**(a)**</span>\n",
    "<span style=\"display: inline-block; width: calc(100% - 50px); margin-left: 20px;\">\n",
    "Modify the following code such that you obtain a Bode plot of $|H(\\omega)|$ and $\\phi(\\omega)$ for the case $f_r=1$ and $Q=10$. Introduce variables for the spring constant (`k`), the resonance frequency (`f_r`), and the quality factor (`Q`).\n",
    "</span>"
   ]
  },
  {
   "cell_type": "code",
   "execution_count": null,
   "id": "1a1e6f53-a61d-4cf7-8cb7-44584b6d3707",
   "metadata": {},
   "outputs": [],
   "source": [
    "import numpy as np\n",
    "import matplotlib.pyplot as plt\n",
    "\n",
    "# This example creates Bode plots of the transfer function H\n",
    "# Returns the transfer function H(f)\n",
    "def H(f):\n",
    "    return 1j + f**2\n",
    "\n",
    "# Create 1000 points equally spaced on log-scale\n",
    "frequency = np.logspace(-3, 3, 1000)\n",
    "\n",
    "plt.figure(1)\n",
    "\n",
    "# Plot abs(H) as function of frequency\n",
    "plt.plot(frequency, abs(H(frequency)), c=\"b\")\n",
    "\n",
    "# Use log-log scale and adjust the axes\n",
    "plt.loglog()\n",
    "plt.axis(xmin=1e-3, xmax=1e3, ymin=1e-1, ymax=1e6)\n",
    "\n",
    "# Label the x-axis and left y-axis\n",
    "plt.xlabel(\"Frequency [Hz]\")\n",
    "plt.ylabel(\"$|H(f)|$\", c=\"b\")\n",
    "\n",
    "# Plot the phase in the same plot in red\n",
    "plt.twinx()\n",
    "plt.plot(frequency, np.angle(H(frequency)), c=\"r\")\n",
    "plt.ylabel(\"$\\phi$ [rad]\", c=\"r\")\n",
    "\n",
    "# Make the phase labels more readable\n",
    "plt.gca().set_yticks([-np.pi, -np.pi/2, 0, np.pi/2, np.pi])\n",
    "plt.gca().set_yticklabels([\"$-\\pi$\", \"$-\\pi/2$\", \"0\", \"$\\pi/2$\", \"$\\pi$\"])\n",
    "\n",
    "plt.tight_layout()\n",
    "plt.show()"
   ]
  },
  {
   "cell_type": "markdown",
   "id": "fd35611e-57b3-41d8-a60c-4ee15fdd9ac3",
   "metadata": {},
   "source": [
    "<span style=\"vertical-align: top;\">**(b)**</span>\n",
    "<span style=\"display: inline-block; width: calc(100% - 50px); margin-left: 20px;\">\n",
    "Use the following code to create a time-dependent force $F(t)$ following a triangular wave. The code generates 50 periods with a total of 5000 points.\n",
    "</span>"
   ]
  },
  {
   "cell_type": "code",
   "execution_count": null,
   "id": "8137297c-1fa1-4e27-9888-7760773be841",
   "metadata": {},
   "outputs": [],
   "source": [
    "# Returns the triangle wave function\n",
    "def triangle(time, period, amplitude):\n",
    "    return (np.abs(np.mod(time, period)/period - 0.5) - 0.25) * 4 * amplitude\n",
    "\n",
    "# Parameters of the time-dependent force\n",
    "# Amplitude of the driving force F(t)\n",
    "amplitude = 1\n",
    "# Period in seconds\n",
    "period = 1\n",
    "# Total number of periods in the waveform\n",
    "nperiods = 50\n",
    "# Total number of points in the waveform\n",
    "npoints = 5000\n",
    "\n",
    "# Create arrays to represent F(t)\n",
    "time = np.linspace(0, period * nperiods, npoints)\n",
    "force = triangle(time, period, amplitude)\n",
    "\n",
    "# Plot a small section of the data\n",
    "plt.figure(2, figsize=(6,1.5))\n",
    "plt.plot(time, force)\n",
    "plt.axis(xmin=0, xmax=3, ymin=-1.5, ymax=1.5)\n",
    "\n",
    "# Label the x-axis and left y-axis\n",
    "plt.xlabel(\"Time [s]\")\n",
    "plt.ylabel(\"Force $F(t)$\")\n",
    "\n",
    "# Grid lines and labels\n",
    "plt.grid(color=\"gray\", linestyle=\"dotted\", linewidth=1)\n",
    "plt.gca().set_yticks([1,0,-1])\n",
    "plt.gca().set_yticklabels([\"A\", \"0\", \"$-A$\"])\n",
    "plt.gca().set_xticks([0,1,2,3])\n",
    "plt.gca().set_xticklabels([\"0\",\"$T$\",\"$2T$\",\"$3T$\"])\n",
    "\n",
    "plt.tight_layout()\n",
    "plt.show()"
   ]
  },
  {
   "cell_type": "markdown",
   "id": "c5c6ab0a-3721-4483-9ede-20b9c32285af",
   "metadata": {},
   "source": [
    "<span style=\"vertical-align: top;\">**(c)**</span>\n",
    "<span style=\"display: inline-block; width: calc(100% - 50px); margin-left: 20px;\">\n",
    "Set the resonance frqeuency of the oscillating mass spring system such that the resonance frequency is 9 times faster than the period of the oscillation (`f_r = 9.0/period`). Make sure that you define the function `H(f)` again. Use the Fast Fourier Transform (`np.fft.fft`) to determine the Fourier Transform $F(f)$ of the force $F(t)$ numerically. <br>\n",
    "Create a single plot that displays the amplitude of the transfer function $|H(f)|$ and the amplitude $|F(f)|$ on a linear scale. Use `plt.twinx()` to create a secondary y-axis to be able to visualize both quantities.\n",
    "</span>"
   ]
  },
  {
   "cell_type": "code",
   "execution_count": null,
   "id": "95f680f9-d2bd-41ce-9e56-0d7a6aedb58a",
   "metadata": {},
   "outputs": [],
   "source": [
    "# Your code goes here"
   ]
  },
  {
   "cell_type": "markdown",
   "id": "198a346b-9e4f-4a42-b0c2-74ac3a15926f",
   "metadata": {},
   "source": [
    "<span style=\"vertical-align: top;\">**(d)**</span>\n",
    "<span style=\"display: inline-block; width: calc(100% - 50px); margin-left: 20px;\">\n",
    "Calculate $x(t)$ by making use of the inverse Fourier Transform (`np.fft.ifft`) and plot $F(t)$ and $x(t)$ in the same graph. To get a correct answer, you need to use both negative and positive frequencies in the response $H(f)$.\n",
    "</span>"
   ]
  },
  {
   "cell_type": "code",
   "execution_count": null,
   "id": "1db13624-c327-46d1-b91d-84799f28e328",
   "metadata": {},
   "outputs": [],
   "source": [
    "# Your code goes here"
   ]
  },
  {
   "cell_type": "markdown",
   "id": "4812af67-50ef-4f69-8edf-ea40b63cdb00",
   "metadata": {},
   "source": [
    "<span style=\"vertical-align: top;\">**(e)**</span>\n",
    "<span style=\"display: inline-block; width: calc(100% - 50px); margin-left: 20px;\">\n",
    "The result should be a set of garlands ('slingers'). Explain.\n",
    "</span>\n",
    "\n",
    "<span style=\"vertical-align: top;\">**(f)**</span>\n",
    "<span style=\"display: inline-block; width: calc(100% - 50px); margin-left: 20px;\">\n",
    "Repeat the calculations for an oscillator with a quality factor $Q=100$.\n",
    "</span>"
   ]
  },
  {
   "cell_type": "code",
   "execution_count": null,
   "id": "140695a2-63c3-4ccb-8fbb-047b5c3a44de",
   "metadata": {},
   "outputs": [],
   "source": [
    "# Your code goes here"
   ]
  },
  {
   "cell_type": "markdown",
   "id": "b6f5c8f6-8787-4f0c-bb44-d9573dbdfcc3",
   "metadata": {},
   "source": [
    "<span style=\"vertical-align: top;\">**(g)**</span>\n",
    "<span style=\"display: inline-block; width: calc(100% - 50px); margin-left: 20px;\">\n",
    "Reduce the resonant frequency of the oscillator to 8.5 times the fundamental harmonic frequency of the driving force. Explain why the solution $x(t)$ changes.\n",
    "</span>"
   ]
  },
  {
   "cell_type": "code",
   "execution_count": null,
   "id": "4b61c123-d9ee-47d7-9949-15a7f06954d2",
   "metadata": {},
   "outputs": [],
   "source": [
    "# Your code goes here"
   ]
  }
 ],
 "metadata": {
  "kernelspec": {
   "display_name": "Python 3 (ipykernel)",
   "language": "python",
   "name": "python3"
  },
  "language_info": {
   "codemirror_mode": {
    "name": "ipython",
    "version": 3
   },
   "file_extension": ".py",
   "mimetype": "text/x-python",
   "name": "python",
   "nbconvert_exporter": "python",
   "pygments_lexer": "ipython3",
   "version": "3.10.12"
  }
 },
 "nbformat": 4,
 "nbformat_minor": 5
}
