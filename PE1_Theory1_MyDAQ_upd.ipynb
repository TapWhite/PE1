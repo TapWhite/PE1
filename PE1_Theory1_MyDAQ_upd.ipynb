{
 "cells": [
  {
   "cell_type": "markdown",
   "metadata": {},
   "source": [
    "<h1> Welcome to the 1<sup>st</sup> theory part for PE1!</h1>\n",
    "\n",
    "The final goal for Physics Experiments as a whole is being able to perform and analyze any experiment that incoroprates feedback and noise reduction. To be able to do so you will first need to create a spectrum analyzer that can analyze various experimental systems automatically. That will be your goal for Physics Experiments 1. This will mostly be done by making use of the programming language Python.\n",
    "\n",
    "Today you will begin your path towards that and focus on two things:\n",
    "<ul>\n",
    "    <li> You will learn how to read and write signals onto the MyDAQ using python.\n",
    "    <li> You will use Objected Oriented Programming (OOP) to create an easy system for yourself to get different tasks done on the MyDAQ.\n",
    "</ul>"
   ]
  },
  {
   "cell_type": "markdown",
   "metadata": {},
   "source": [
    "<h2> Controlling the MyDAQ using python </h2>\n",
    "\n",
    "Last year, in Experimentele Natuurkunde, you have used the MyDAQ a few times to read out data using a program made by us. It would however be useful if you could get and analyse the data simultaneously using python. Furthermore, the MyDAQ can also be used to generate signals, which we will further refer to as writing data. The MyDAQ is therefore a combination of an oscilloscope with a function generator. Hence, you can use it to automatically evaluate transfer functions of various electronic systems. After this session you will be able to communicate with any apparatus you may encounter in a lab."
   ]
  },
  {
   "cell_type": "code",
   "execution_count": 1,
   "metadata": {},
   "outputs": [
    {
     "name": "stdout",
     "output_type": "stream",
     "text": [
      "Populating the interactive namespace from numpy and matplotlib\n"
     ]
    }
   ],
   "source": [
    "# Installs some basic functions\n",
    "\n",
    "%pylab inline\n",
    "\n",
    "import nidaqmx as dx\n",
    "import matplotlib.pyplot as plt\n",
    "import numpy as np"
   ]
  },
  {
   "cell_type": "markdown",
   "metadata": {},
   "source": [
    "<h3>1.1 Writing to the MyDAQ</h3>\n",
    "\n",
    "<h4>1.1A: Writing 1 sample to 1 channel</h4>\n",
    "We will start easy. Connect an oscilloscope to the output (AO0) to validate/prove that what you intend to write as output to the MyDAQ actually is the intended signal. In the following cell, the code is shown for writing a constant voltage to the output of the MyDAQ.\n",
    "\n",
    "It is hard to notice a constant voltage output on the oscilloscope without some tweaking. If you have any difficulty, you could use a DMM to verify that the code works."
   ]
  },
  {
   "cell_type": "code",
   "execution_count": null,
   "metadata": {},
   "outputs": [],
   "source": [
    "\"\"\"\n",
    "To write data (= voltage(s)) to the MyDAQ, we use the package NiDAQmx.\n",
    "We will first work through writing data\n",
    "\"\"\"\n",
    "# We start a task to write a single output\n",
    "with dx.Task() as writeTask:\n",
    "    \n",
    "    \"\"\"Now writeTask is everything we need to worry about\"\"\"\n",
    "    # We need to tell the computer where to write to. \n",
    "    #Of course, this will be the MyDAQ and to the output AO0.\n",
    "    writeTask.ao_channels.add_ao_voltage_chan('myDAQ2/ao0')     # MyDAQ2 ipo 1 everywhere\n",
    "    \n",
    "    \"\"\"\n",
    "    Let's first try to just write a single voltage. Connect a scope to \n",
    "    the output (AO0) of the MyDAQ and connect the MyDAQ to the computer\n",
    "    \"\"\"\n",
    "    \n",
    "    # There are two ways to write,\n",
    "    \n",
    "    #1) We define a write task, and start it. \n",
    "    myVoltage = 3\n",
    "    writeTask.write(myVoltage)\n",
    "    writeTask.start()\n",
    "    \n",
    "    #Remember that a task always needs to be closed!\n",
    "    writeTask.stop()\n",
    "    \n",
    "    #2) In one go\n",
    "    writeTask.write(myVoltage, auto_start=True)\n",
    "    \n",
    "    \"\"\"\n",
    "    So, as you can see we have just used the writeTask.write() function \n",
    "    to write a single output to the MyDAQ If everything is OK you \n",
    "    should now see this voltage on the scope?\n",
    "    \"\"\"\n",
    "    \n",
    "    writeTask.stop()"
   ]
  },
  {
   "cell_type": "markdown",
   "metadata": {},
   "source": [
    "<h4>1.1B: Writing N samples to 1 channel with timing</h4>\n",
    "Instead of writing one voltage level, you can also write out a sequence of voltage samples. The MyDAQ will then write out these voltage levels in descrete steps with a certain predefined sample rate (The number of items written to the MyDAQ per second). Using this, you can create any arbitrary waveform, for example a stair function, as used in the code below. In the following cell, the code is shown for writing out a sequence to the MyDAQ.\n",
    "\n",
    "<b>Play around with the parameters and try to understand what happens.</b>"
   ]
  },
  {
   "cell_type": "code",
   "execution_count": null,
   "metadata": {},
   "outputs": [],
   "source": [
    "#Again, we start a task like before\n",
    "with dx.Task() as writeTask:\n",
    "    \n",
    "    # Add your output channel to WriteTask as before.\n",
    "    writeTask.ao_channels.add_ao_voltage_chan('myDAQ2/ao0')\n",
    "    \n",
    "    # We define a sample rate\n",
    "    rate           = 500 # samples / sec\n",
    "    \n",
    "    # Number of samples to write\n",
    "    samps_per_chan = 5000                       # long not needed anymore\n",
    "    \n",
    "    # Question: How long will the signal last?\n",
    "    \n",
    "    writeTask.timing.cfg_samp_clk_timing(rate,sample_mode = dx.constants.AcquisitionType.FINITE, \\\n",
    "                                         samps_per_chan=samps_per_chan)    \n",
    "    \"\"\"The sample_mode is set to FINITE. \n",
    "    This means that the MyDAQ expects a FINITE number\n",
    "    of samples to write, e.g. samps_per_chan.\n",
    "    \n",
    "    Sample mode is either dx.constants.AcquisitionType.FINITE or \n",
    "    dx.constants.AcquisitionType.CONTINUOUS.\n",
    "    \n",
    "    Samps_per_chan specifies the number of samples to generate if in \n",
    "    FINITE, or if CONTINUOUS this specifies the buffer size.\n",
    "    # make sure samps_per_chan is of integer type long (by using long())\n",
    "    \"\"\"\n",
    "    \n",
    "    # Now everything is set and we can start to write data\n",
    "    \n",
    "    # First define the sequence you want to write to the MyDAQ\n",
    "    stairs = [0.0,0.0,1.1, 2.2, 3.3, 4.4, 5.5,6,8,9]\n",
    "    \n",
    "    # Then you can simply write it to the MyDAQ like before\n",
    "    writeTask.write(stairs, auto_start=True)\n",
    "    \n",
    "    \"\"\"This data is now stored on the MyDAQ to be written to the output. \n",
    "    This takes however a finite amount of time, since we are writing \n",
    "    with finite frequency. We thus wait before closing the connection\"\"\"\n",
    "    time.sleep(samps_per_chan/rate + 0.001)\n",
    "    writeTask.stop()"
   ]
  },
  {
   "cell_type": "markdown",
   "metadata": {},
   "source": [
    "<h4>1.1C: Writing N samples to N channels</h4>\n",
    "As you might have seen, the MyDAQ has multiple output channels. You can also write to these channels simultaneously. In the cell below, the code is shown for doing so.\n",
    "\n",
    "<b>Play around with the parameters and try to understand what happens.</b>"
   ]
  },
  {
   "cell_type": "code",
   "execution_count": null,
   "metadata": {},
   "outputs": [],
   "source": [
    "#create a task\n",
    "with dx.Task() as writeTask: \n",
    "    \n",
    "    #First, we add both channels to writeTask\n",
    "    writeTask.ao_channels.add_ao_voltage_chan('myDAQ2/ao0')\n",
    "    writeTask.ao_channels.add_ao_voltage_chan('myDAQ2/ao1')\n",
    "    \n",
    "    # We define a rate\n",
    "    rate           = 500 # samples / sec\n",
    "    \n",
    "    # number of samples to write\n",
    "    samps_per_chan = 5000\n",
    "    \n",
    "    writeTask.timing.cfg_samp_clk_timing(rate,sample_mode = dx.constants.AcquisitionType.FINITE, \\\n",
    "                                         samps_per_chan=samps_per_chan)  \n",
    "    \n",
    "    \"\"\"Everything is set. Instead of passing a list or array to the \n",
    "    write function, we now need to pass two of them. One per channel\"\"\"\n",
    "    \n",
    "    # This writing can be done using lists:\n",
    "    channel1data = [1.1, 2.2, 3.3]\n",
    "    channel2data = [1.1, 2.2, 4.4]\n",
    "    \n",
    "    # 2 channels , 3 samples per channel\n",
    "    writeTask.write([channel1data, channel2data], auto_start=True)\n",
    "    \n",
    "    time.sleep(samps_per_chan/rate + 0.001)\n",
    "    \n",
    "    writeTask.stop()"
   ]
  },
  {
   "cell_type": "markdown",
   "metadata": {},
   "source": [
    "<h3>1.2 Reading from the MyDAQ</h3>\n",
    "<h4>1.2A: Reading from one of the inputs of the MyDAQ</h4>\n",
    "Now we will learn how to read a signal that is delivered to the MyDAQ.\n",
    "Try to extend this program such that you get the correct time values. Connect a function generator to an input of the MyDAQ to prove your results."
   ]
  },
  {
   "cell_type": "code",
   "execution_count": null,
   "metadata": {},
   "outputs": [],
   "source": [
    "\"\"\"Exactly the same procedures hold for reading in data. Now that we have \n",
    "discusses writing to excessivly, you can do the reading part yourself\"\"\"\n",
    "\n",
    "with dx.Task() as readTask:\n",
    "    #Add the correct channel to readTask\n",
    "    readTask.ai_channels.add_ai_voltage_chan('myDAQ2/ai0')\n",
    "    \n",
    "    #Again define the clock settings\n",
    "    samps_per_chan = 50\n",
    "    rate = 50\n",
    "    \n",
    "    readTask.timing.cfg_samp_clk_timing(rate,sample_mode = dx.constants.AcquisitionType.FINITE, samps_per_chan=samps_per_chan)\n",
    "     \n",
    "    #1 Channel 1 Sample read:\n",
    "    data=readTask.read()\n",
    "    print(data)\n",
    "    \n",
    "    #1 Channel N Samples read:\n",
    "    data=readTask.read(number_of_samples_per_channel = 10)\n",
    "    #print(data)\n",
    "    plt.figure(1)\n",
    "    plt.plot(data)\n",
    "    plt.show()"
   ]
  },
  {
   "cell_type": "markdown",
   "metadata": {},
   "source": [
    "<h4>1.2B: Reading from multiple inputs of the MyDAQ</h4>\n",
    "You can also read from multiple inputs of the MyDAQ simultaneously."
   ]
  },
  {
   "cell_type": "code",
   "execution_count": null,
   "metadata": {},
   "outputs": [],
   "source": [
    "with dx.Task() as readTask:\n",
    "    #Now we will add two channels to the readTask\n",
    "    readTask.ai_channels.add_ai_voltage_chan('myDAQ2/ai0')\n",
    "    readTask.ai_channels.add_ai_voltage_chan('myDAQ2/ai1')\n",
    "    \n",
    "    #Again define the clock settings\n",
    "    samps_per_chan = 50\n",
    "    rate = 50\n",
    "    \n",
    "    readTask.timing.cfg_samp_clk_timing(rate,sample_mode = dx.constants.AcquisitionType.FINITE, samps_per_chan=samps_per_chan)\n",
    "     \n",
    "    #2 Channel 1 Sample read:\n",
    "    data=readTask.read()\n",
    "    print(data)\n",
    "    \n",
    "    #2 Channel N Samples read:\n",
    "    data=readTask.read(number_of_samples_per_channel = 10)\n",
    "    \n",
    "    #print(data)\n",
    "    plt.figure(1)\n",
    "    plt.plot(data[0]) #Data from the first channel\n",
    "    plt.plot(data[1]) #Data from the second channel\n",
    "    plt.show()"
   ]
  },
  {
   "cell_type": "markdown",
   "metadata": {},
   "source": [
    "<h3>1.3 Writing to & Reading from the MyDAQ</h3>\n",
    "\n",
    "<h4>To do: Combine writing to and reading from the MyDAQ</h4>\n",
    "Combine writing to and reading from the MyDAQ and prove that your program is working as it is supposed to.\n",
    "\n",
    "<b> Tip: Use a BNC T-Adapter to read a signal on the MyDAQ and on the Oscilloscope simultaneously.</b>"
   ]
  },
  {
   "cell_type": "code",
   "execution_count": null,
   "metadata": {},
   "outputs": [],
   "source": [
    "# To combine reading and writing you will need to put the two together.\n",
    "with dx.Task('AOTask') as writeTask, dx.Task('AITask') as readTask:\n",
    "    # Your code here:"
   ]
  },
  {
   "cell_type": "markdown",
   "metadata": {},
   "source": [
    "<h3>Combining the MyDAQ with OOP </h3>\n",
    "To avoid repetition in your code and to make reading and writing from and to the MyDAQ easier, you can create an object in which you define your functions.\n",
    "\n",
    "(If you are not familiar with OOP anymore, you can do some exercises in the Jupyter Notebook on OOP.)\n",
    "\n",
    "Create an object with which you can run the following code. Try to make some useful function which you think you will use in the future, for example a function to output a sine wave with a certain frequency and amplitude.\n",
    "\n",
    "<b>Read the practical syllabus carefully before you start working on your MyDAQ class. Make sure that your code does everything which is stated in the syllabus.</b> "
   ]
  },
  {
   "cell_type": "code",
   "execution_count": null,
   "metadata": {},
   "outputs": [],
   "source": [
    "class MyDAQ():\n",
    "    def __init__(self):\n",
    "        pass"
   ]
  },
  {
   "cell_type": "code",
   "execution_count": null,
   "metadata": {},
   "outputs": [],
   "source": [
    "\"\"\"\n",
    "This is only an example of some functions that might be useful for you.\n",
    "You can create/name them of course as you wish.\n",
    "\"\"\"\n",
    "\n",
    "myDAQ = MyDAQ()\n",
    "myDAQ.write(array, rate)\n",
    "voltages = myDAQ.getVoltData()\n",
    "times = myDAQ.getTimeData()"
   ]
  }
 ],
 "metadata": {
  "kernelspec": {
   "display_name": "Python 3",
   "language": "python",
   "name": "python3"
  },
  "language_info": {
   "codemirror_mode": {
    "name": "ipython",
    "version": 3
   },
   "file_extension": ".py",
   "mimetype": "text/x-python",
   "name": "python",
   "nbconvert_exporter": "python",
   "pygments_lexer": "ipython3",
   "version": "3.7.4"
  }
 },
 "nbformat": 4,
 "nbformat_minor": 2
}
