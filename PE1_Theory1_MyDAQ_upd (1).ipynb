{
 "cells": [
  {
   "cell_type": "markdown",
   "metadata": {},
   "source": [
    "<h1> Welcome to the 1<sup>st</sup> theory part for PE1!</h1>\n",
    "\n",
    "The final goal for Physics Experiments as a whole is being able to perform and analyze any experiment that incoroprates feedback and noise reduction. To be able to do so you will first need to create a spectrum analyzer that can analyze various experimental systems automatically. That will be your goal for Physics Experiments 1. This will mostly be done by making use of the programming language Python.\n",
    "\n",
    "Today you will begin your path towards that and focus on two things:\n",
    "<ul>\n",
    "    <li> You will learn how to read and write signals onto the MyDAQ using python.\n",
    "    <li> You will use Objected Oriented Programming (OOP) to create an easy system for yourself to get different tasks done on the MyDAQ.\n",
    "</ul>"
   ]
  },
  {
   "cell_type": "markdown",
   "metadata": {},
   "source": [
    "<h2> Controlling the MyDAQ using python </h2>\n",
    "\n",
    "Last year, in Experimentele Natuurkunde, you have used the MyDAQ a few times to read out data using a program made by us. It would however be useful if you could get and analyse the data simultaneously using python. Furthermore, the MyDAQ can also be used to generate signals, which we will further refer to as writing data. The MyDAQ is therefore a combination of an oscilloscope with a function generator. Hence, you can use it to automatically evaluate transfer functions of various electronic systems. After this session you will be able to communicate with any apparatus you may encounter in a lab."
   ]
  },
  {
   "cell_type": "code",
   "execution_count": 1,
   "metadata": {},
   "outputs": [
    {
     "name": "stdout",
     "output_type": "stream",
     "text": [
      "%pylab is deprecated, use %matplotlib inline and import the required libraries.\n",
      "Populating the interactive namespace from numpy and matplotlib\n"
     ]
    }
   ],
   "source": [
    "# Installs some basic functions\n",
    "\n",
    "%pylab inline\n",
    "\n",
    "import nidaqmx as dx\n",
    "import matplotlib.pyplot as plt\n",
    "import numpy as np\n",
    "import time"
   ]
  },
  {
   "cell_type": "markdown",
   "metadata": {},
   "source": [
    "<h3>1.1 Writing to the MyDAQ</h3>\n",
    "\n",
    "<h4>1.1A: Writing 1 sample to 1 channel</h4>\n",
    "We will start easy. Connect an oscilloscope to the output (AO0) to validate/prove that what you intend to write as output to the MyDAQ actually is the intended signal. In the following cell, the code is shown for writing a constant voltage to the output of the MyDAQ.\n",
    "\n",
    "It is hard to notice a constant voltage output on the oscilloscope without some tweaking. If you have any difficulty, you could use a DMM to verify that the code works."
   ]
  },
  {
   "cell_type": "code",
   "execution_count": 8,
   "metadata": {},
   "outputs": [],
   "source": [
    "\"\"\"\n",
    "To write data (= voltage(s)) to the MyDAQ, we use the package NiDAQmx.\n",
    "We will first work through writing data\n",
    "\"\"\"\n",
    "# We start a task to write a single output\n",
    "with dx.Task() as writeTask:\n",
    "    \n",
    "    \"\"\"Now writeTask is everything we need to worry about\"\"\"\n",
    "    # We need to tell the computer where to write to. \n",
    "    #Of course, this will be the MyDAQ and to the output AO0.\n",
    "    writeTask.ao_channels.add_ao_voltage_chan('myDAQ1/ao0')     # MyDAQ2 ipo 1 everywhere\n",
    "    \n",
    "    \"\"\"\n",
    "    Let's first try to just write a single voltage. Connect a scope to \n",
    "    the output (AO0) of the MyDAQ and connect the MyDAQ to the computer\n",
    "    \"\"\"\n",
    "    \n",
    "    # There are two ways to write,\n",
    "    \n",
    "    #1) We define a write task, and start it. \n",
    "    myVoltage = 5\n",
    "    writeTask.write(myVoltage)\n",
    "    writeTask.start()\n",
    "    \n",
    "    #Remember that a task always needs to be closed!\n",
    "    writeTask.stop()\n",
    "    \n",
    "    #2) In one go\n",
    "    writeTask.write(myVoltage, auto_start=True)\n",
    "    \n",
    "    \"\"\"\n",
    "    So, as you can see we have just used the writeTask.write() function \n",
    "    to write a single output to the MyDAQ If everything is OK you \n",
    "    should now see this voltage on the scope?\n",
    "    \"\"\"\n",
    "    \n",
    "    writeTask.stop()"
   ]
  },
  {
   "cell_type": "markdown",
   "metadata": {},
   "source": [
    "<h4>1.1B: Writing N samples to 1 channel with timing</h4>\n",
    "Instead of writing one voltage level, you can also write out a sequence of voltage samples. The MyDAQ will then write out these voltage levels in descrete steps with a certain predefined sample rate (The number of items written to the MyDAQ per second). Using this, you can create any arbitrary waveform, for example a stair function, as used in the code below. In the following cell, the code is shown for writing out a sequence to the MyDAQ.\n",
    "\n",
    "<b>Play around with the parameters and try to understand what happens.</b>"
   ]
  },
  {
   "cell_type": "code",
   "execution_count": 14,
   "metadata": {},
   "outputs": [],
   "source": [
    "#Again, we start a task like before\n",
    "with dx.Task() as writeTask:\n",
    "    \n",
    "    # Add your output channel to WriteTask as before.\n",
    "    writeTask.ao_channels.add_ao_voltage_chan('myDAQ1/ao0')\n",
    "    \n",
    "    # We define a sample rate\n",
    "    rate           = 500 # samples / sec\n",
    "    \n",
    "    # Number of samples to write\n",
    "    samps_per_chan = 2500         # long not needed anymore\n",
    "    \n",
    "    # Question: How long will the signal last?\n",
    "    \n",
    "    writeTask.timing.cfg_samp_clk_timing(rate,sample_mode = dx.constants.AcquisitionType.FINITE, \\\n",
    "                                         samps_per_chan=samps_per_chan)    \n",
    "    \"\"\"The sample_mode is set to FINITE. \n",
    "    This means that the MyDAQ expects a FINITE number\n",
    "    of samples to write, e.g. samps_per_chan.\n",
    "    \n",
    "    Sample mode is either dx.constants.AcquisitionType.FINITE or \n",
    "    dx.constants.AcquisitionType.CONTINUOUS.\n",
    "    \n",
    "    Samps_per_chan specifies the number of samples to generate if in \n",
    "    FINITE, or if CONTINUOUS this specifies the buffer size.\n",
    "    # make sure samps_per_chan is of integer type long (by using long())\n",
    "    \"\"\"\n",
    "    \n",
    "    # Now everything is set and we can start to write data\n",
    "    \n",
    "    # First define the sequence you want to write to the MyDAQ\n",
    "    stairs = [0.0,0.0,1.1, 2.2, 3.3, 4.4, 5.5,6,8,9]\n",
    "    \n",
    "    # Then you can simply write it to the MyDAQ like before\n",
    "    writeTask.write(stairs, auto_start=True)\n",
    "    \n",
    "    \"\"\"This data is now stored on the MyDAQ to be written to the output. \n",
    "    This takes however a finite amount of time, since we are writing \n",
    "    with finite frequency. We thus wait before closing the connection\"\"\"\n",
    "    time.sleep(samps_per_chan/rate + 0.001)\n",
    "    writeTask.stop()"
   ]
  },
  {
   "cell_type": "markdown",
   "metadata": {},
   "source": [
    "<h4>1.1C: Writing N samples to N channels</h4>\n",
    "As you might have seen, the MyDAQ has multiple output channels. You can also write to these channels simultaneously. In the cell below, the code is shown for doing so.\n",
    "\n",
    "<b>Play around with the parameters and try to understand what happens.</b>"
   ]
  },
  {
   "cell_type": "code",
   "execution_count": 34,
   "metadata": {},
   "outputs": [],
   "source": [
    "#create a task\n",
    "with dx.Task() as writeTask: \n",
    "    \n",
    "    #First, we add both channels to writeTask\n",
    "    writeTask.ao_channels.add_ao_voltage_chan('myDAQ1/ao0')\n",
    "    writeTask.ao_channels.add_ao_voltage_chan('myDAQ1/ao1')\n",
    "    \n",
    "    # We define a rate\n",
    "    rate           = 500 # samples / sec\n",
    "    \n",
    "    # number of samples to write\n",
    "    samps_per_chan = 5000\n",
    "    \n",
    "    writeTask.timing.cfg_samp_clk_timing(rate,sample_mode = dx.constants.AcquisitionType.FINITE, \\\n",
    "                                         samps_per_chan=samps_per_chan)  \n",
    "    \n",
    "    \"\"\"Everything is set. Instead of passing a list or array to the \n",
    "    write function, we now need to pass two of them. One per channel\"\"\"\n",
    "    \n",
    "    # This writing can be done using lists:\n",
    "    channel1data = [1.1, 2.2, 3.3]\n",
    "    channel2data = [4.1, 5.2, 6.3] \n",
    "    \n",
    "    # 2 channels , 3 samples per channel\n",
    "    writeTask.write([channel1data, channel2data], auto_start=True)\n",
    "    \n",
    "    time.sleep(samps_per_chan/rate + 0.001)\n",
    "    \n",
    "    writeTask.stop()"
   ]
  },
  {
   "cell_type": "markdown",
   "metadata": {},
   "source": [
    "<h3>1.2 Reading from the MyDAQ</h3>\n",
    "<h4>1.2A: Reading from one of the inputs of the MyDAQ</h4>\n",
    "Now we will learn how to read a signal that is delivered to the MyDAQ.\n",
    "Try to extend this program such that you get the correct time values. Connect a function generator to an input of the MyDAQ to prove your results."
   ]
  },
  {
   "cell_type": "code",
   "execution_count": 20,
   "metadata": {},
   "outputs": [
    {
     "data": {
      "image/png": "[encoded data removed]",
      "text/plain": [
       "<Figure size 640x480 with 1 Axes>"
      ]
     },
     "metadata": {},
     "output_type": "display_data"
    }
   ],
   "source": [
    "\"\"\"Exactly the same procedures hold for reading in data. Now that we have \n",
    "discusses writing to excessivly, you can do the reading part yourself\"\"\"\n",
    "\n",
    "with dx.Task() as readTask:\n",
    "    #Add the correct channel to readTask\n",
    "    readTask.ai_channels.add_ai_voltage_chan('myDAQ1/ai0')\n",
    "    \n",
    "    #Again define the clock settings\n",
    "    samps_per_chan = 50\n",
    "    rate = 100\n",
    "    \n",
    "    readTask.timing.cfg_samp_clk_timing(rate,sample_mode = dx.constants.AcquisitionType.FINITE, samps_per_chan=samps_per_chan)\n",
    "     \n",
    "    #1 Channel 1 Sample read:\n",
    "    data=readTask.read()\n",
    "    \n",
    "    #1 Channel N Samples read:\n",
    "    data=readTask.read(number_of_samples_per_channel = samps_per_chan)\n",
    "\n",
    "    x = np.linspace(0, samps_per_chan/rate, num=samps_per_chan-1)\n",
    "    plt.figure(1)\n",
    "    plt.scatter(x, data)\n",
    "    plt.xlabel('Time (s)')\n",
    "    plt.ylabel('Voltage (V)' )\n",
    "    plt.title('MyDAQ Reading test from Function Generator')\n",
    "    #plt.savefig(r'P:\\PE1\\Function1.pdf', format='pdf')\n",
    "    plt.show()\n"
   ]
  },
  {
   "cell_type": "markdown",
   "metadata": {},
   "source": [
    "<h4>1.2B: Reading from multiple inputs of the MyDAQ</h4>\n",
    "You can also read from multiple inputs of the MyDAQ simultaneously."
   ]
  },
  {
   "cell_type": "code",
   "execution_count": 98,
   "metadata": {},
   "outputs": [
    {
     "data": {
      "image/png": "[encoded data removed]",
      "text/plain": [
       "<Figure size 640x480 with 1 Axes>"
      ]
     },
     "metadata": {},
     "output_type": "display_data"
    }
   ],
   "source": [
    "with dx.Task() as readTask:\n",
    "    #Now we will add two channels to the readTask\n",
    "    readTask.ai_channels.add_ai_voltage_chan('myDAQ1/ai0')\n",
    "    readTask.ai_channels.add_ai_voltage_chan('myDAQ1/ai1')\n",
    "    \n",
    "    #Again define the clock settings\n",
    "    samps_per_chan = 50\n",
    "    rate = 50\n",
    "    \n",
    "    readTask.timing.cfg_samp_clk_timing(rate,sample_mode = dx.constants.AcquisitionType.FINITE, samps_per_chan=samps_per_chan)\n",
    "     \n",
    "    #2 Channel 1 Sample read:\n",
    "    data=readTask.read()\n",
    "    \n",
    "    #2 Channel N Samples read:\n",
    "    data=readTask.read(number_of_samples_per_channel = samps_per_chan)\n",
    "    \n",
    "    x = np.linspace(0, samps_per_chan/rate, num=samps_per_chan-1)\n",
    "\n",
    "    plt.figure(1)\n",
    "    plt.scatter(x, data[0], label='channel 1')\n",
    "    plt.scatter(x, data[1], label='channel 2')\n",
    "    plt.xlabel('Time (s)')\n",
    "    plt.ylabel('Voltage (V)' )\n",
    "    plt.legend(loc=1)\n",
    "    plt.title('MyDAQ Reading test from Function Generator Dual-Channel')\n",
    "    plt.savefig(r'P:\\PE1\\Function2.pdf', format='pdf')\n",
    "    plt.show()"
   ]
  },
  {
   "cell_type": "markdown",
   "metadata": {},
   "source": [
    "<h3>1.3 Writing to & Reading from the MyDAQ</h3>\n",
    "\n",
    "<h4>To do: Combine writing to and reading from the MyDAQ</h4>\n",
    "Combine writing to and reading from the MyDAQ and prove that your program is working as it is supposed to.\n",
    "\n",
    "<b> Tip: Use a BNC T-Adapter to read a signal on the MyDAQ and on the Oscilloscope simultaneously.</b>"
   ]
  },
  {
   "cell_type": "code",
   "execution_count": null,
   "metadata": {},
   "outputs": [],
   "source": [
    "# To combine reading and writing you will need to put the two together.\n",
    "with dx.Task('AOTask') as writeTask, dx.Task('AITask') as readTask:\n",
    "    # Your code here:"
   ]
  },
  {
   "cell_type": "markdown",
   "metadata": {},
   "source": [
    "<h3>Combining the MyDAQ with OOP </h3>\n",
    "To avoid repetition in your code and to make reading and writing from and to the MyDAQ easier, you can create an object in which you define your functions.\n",
    "\n",
    "(If you are not familiar with OOP anymore, you can do some exercises in the Jupyter Notebook on OOP.)\n",
    "\n",
    "Create an object with which you can run the following code. Try to make some useful function which you think you will use in the future, for example a function to output a sine wave with a certain frequency and amplitude.\n",
    "\n",
    "<b>Read the practical syllabus carefully before you start working on your MyDAQ class. Make sure that your code does everything which is stated in the syllabus.</b> "
   ]
  },
  {
   "cell_type": "code",
   "execution_count": 5,
   "metadata": {},
   "outputs": [],
   "source": [
    "class MyDAQ():\n",
    "    def __init__(self, device_name='myDAQ1'):\n",
    "        self.device_name = device_name\n",
    "        self.write_task = None\n",
    "        self.read_task = None\n",
    "\n",
    "    def configure_write_task(self, rate=500, samps_per_chan=2500):\n",
    "        self.write_task = dx.Task()\n",
    "        self.write_task.ao_channels.add_ao_voltage_chan(f'{self.device_name}/ao0')\n",
    "        self.write_task.timing.cfg_samp_clk_timing(\n",
    "            rate,\n",
    "            sample_mode = dx.constants.AcquisitionType.FINITE,\n",
    "            samps_per_chan=samps_per_chan\n",
    "        )\n",
    "        self.samps_per_chan = samps_per_chan\n",
    "        self.rate= rate\n",
    "        \n",
    "    def write(self, data):\n",
    "        if self.write_task is None:\n",
    "            raise Exception(\"Write task is not configured.\")\n",
    "        \n",
    "        self.write_task.write(data, auto_start=True)\n",
    "        time.sleep(self.samps_per_chan / self.rate + 0.001)\n",
    "        self.write_task.stop()\n",
    "    \n",
    "    def configure_read_task(self, rate=100, samps_per_chan=50):\n",
    "        \"\"\"Configures the read task with the given parameters.\"\"\"\n",
    "        self.read_task = dx.Task()\n",
    "        self.read_task.ai_channels.add_ai_voltage_chan(f'{self.device_name}/ai0')\n",
    "        self.read_task.timing.cfg_samp_clk_timing(\n",
    "            rate,\n",
    "            sample_mode=dx.constants.AcquisitionType.FINITE,\n",
    "            samps_per_chan=samps_per_chan\n",
    "        )\n",
    "        self.samps_per_chan = samps_per_chan\n",
    "        self.rate = rate\n",
    "\n",
    "    def read(self):\n",
    "        \"\"\"Reads data from the MyDAQ input.\"\"\"\n",
    "        if self.read_task is None:\n",
    "            raise Exception(\"Read task is not configured.\")\n",
    "        \n",
    "        data = self.read_task.read(number_of_samples_per_channel=self.samps_per_chan)\n",
    "        return data\n",
    "\n",
    "\n",
    "    def generate_sine_wave(self, frequency, amplitude, phase_shift, offset, duration):\n",
    "        \"\"\"Generates a sine wave with the specified parameters.\"\"\"\n",
    "        t = np.linspace(0, duration, int(self.rate * duration), endpoint=False)\n",
    "        sine_wave = amplitude * np.sin(2 * np.pi * frequency * t + phase_shift) + offset\n",
    "        return sine_wave\n",
    "    \n",
    "    \n",
    "    def plot_data(self, data, output_path='output.pdf'):\n",
    "        \"\"\"Plots the data and saves the figure to a file.\"\"\"\n",
    "        x = np.linspace(0, self.samps_per_chan / self.rate, num=self.samps_per_chan - 1)\n",
    "        plt.figure()\n",
    "        plt.scatter(x, data)\n",
    "        plt.xlabel('Time (s)')\n",
    "        plt.ylabel('Voltage (V)')\n",
    "        plt.title('MyDAQ Reading test from Function Generator')\n",
    "        plt.savefig(output_path, format='pdf')\n",
    "        plt.show()\n",
    "\n",
    "    def close(self):\n",
    "        \"\"\"Closes any open tasks.\"\"\"\n",
    "        if self.write_task is not None:\n",
    "            self.write_task.close()\n",
    "        if self.read_task is not None:\n",
    "            self.read_task.close()\n",
    "\n",
    "    def fft(self, data):\n",
    "        \"\"\"Performs FFT on the data and plots the frequency spectrum.\"\"\"\n",
    "        N = len(data)\n",
    "        fft_values = fft(data)\n",
    "        freqs = fftfreq(N, 1/self.rate)\n",
    "        positive_freqs = freqs[:N//2]\n",
    "        fft_magnitudes = np.abs(fft_values[:N//2])\n",
    "\n",
    "        # Plot the frequency spectrum\n",
    "        plt.figure()\n",
    "        plt.plot(positive_freqs, fft_magnitudes)\n",
    "        plt.xlabel('Frequency (Hz)')\n",
    "        plt.ylabel('Amplitude')\n",
    "        plt.title('FFT Frequency Spectrum')\n",
    "        plt.show()\n",
    "\n",
    "        return positive_freqs, fft_magnitudes\n"
   ]
  },
  {
   "cell_type": "code",
   "execution_count": 23,
   "metadata": {},
   "outputs": [
    {
     "ename": "AttributeError",
     "evalue": "'MyDAQ' object has no attribute 'samps_per_chan'",
     "output_type": "error",
     "traceback": [
      "\u001b[1;31m---------------------------------------------------------------------------\u001b[0m",
      "\u001b[1;31mAttributeError\u001b[0m                            Traceback (most recent call last)",
      "Cell \u001b[1;32mIn[23], line 15\u001b[0m\n\u001b[0;32m     10\u001b[0m \u001b[38;5;66;03m# daq.write_data(stairs)\u001b[39;00m\n\u001b[0;32m     11\u001b[0m \n\u001b[0;32m     12\u001b[0m \u001b[38;5;66;03m# daq.configure_read_task(rate=100, samps_per_chan=50)\u001b[39;00m\n\u001b[0;32m     13\u001b[0m \u001b[38;5;66;03m# data = daq.read_data()\u001b[39;00m\n\u001b[0;32m     14\u001b[0m data \u001b[38;5;241m=\u001b[39m stairs\n\u001b[1;32m---> 15\u001b[0m daq\u001b[38;5;241m.\u001b[39mplot_data(data, output_path\u001b[38;5;241m=\u001b[39m\u001b[38;5;124m'\u001b[39m\u001b[38;5;124mfunction1.pdf\u001b[39m\u001b[38;5;124m'\u001b[39m)\n\u001b[0;32m     17\u001b[0m daq\u001b[38;5;241m.\u001b[39mclose()\n",
      "Cell \u001b[1;32mIn[22], line 48\u001b[0m, in \u001b[0;36mMyDAQ.plot_data\u001b[1;34m(self, data, output_path)\u001b[0m\n\u001b[0;32m     46\u001b[0m \u001b[38;5;28;01mdef\u001b[39;00m \u001b[38;5;21mplot_data\u001b[39m(\u001b[38;5;28mself\u001b[39m, data, output_path\u001b[38;5;241m=\u001b[39m\u001b[38;5;124m'\u001b[39m\u001b[38;5;124moutput.pdf\u001b[39m\u001b[38;5;124m'\u001b[39m):\n\u001b[0;32m     47\u001b[0m \u001b[38;5;250m    \u001b[39m\u001b[38;5;124;03m\"\"\"Plots the data and saves the figure to a file.\"\"\"\u001b[39;00m\n\u001b[1;32m---> 48\u001b[0m     x \u001b[38;5;241m=\u001b[39m np\u001b[38;5;241m.\u001b[39mlinspace(\u001b[38;5;241m0\u001b[39m, \u001b[38;5;28mself\u001b[39m\u001b[38;5;241m.\u001b[39msamps_per_chan \u001b[38;5;241m/\u001b[39m \u001b[38;5;28mself\u001b[39m\u001b[38;5;241m.\u001b[39mrate, num\u001b[38;5;241m=\u001b[39m\u001b[38;5;28mself\u001b[39m\u001b[38;5;241m.\u001b[39msamps_per_chan \u001b[38;5;241m-\u001b[39m \u001b[38;5;241m1\u001b[39m)\n\u001b[0;32m     49\u001b[0m     plt\u001b[38;5;241m.\u001b[39mfigure()\n\u001b[0;32m     50\u001b[0m     plt\u001b[38;5;241m.\u001b[39mscatter(x, data)\n",
      "\u001b[1;31mAttributeError\u001b[0m: 'MyDAQ' object has no attribute 'samps_per_chan'"
     ]
    }
   ],
   "source": [
    "\"\"\"\n",
    "This is only an example of some functions that might be useful for you.\n",
    "You can create/name them of course as you wish.\n",
    "\"\"\"\n",
    "\n",
    "# Example usage:\n",
    "daq = MyDAQ()\n",
    "# daq.configure_write_task(rate=500, samps_per_chan=2500)\n",
    "stairs = [0.0, 0.0, 1.1, 2.2, 3.3, 4.4, 5.5, 6, 8, 9]\n",
    "# daq.write_data(stairs)\n",
    "\n",
    "# daq.configure_read_task(rate=100, samps_per_chan=50)\n",
    "# data = daq.read_data()\n",
    "data = stairs\n",
    "daq.plot_data(data, output_path='function1.pdf')\n",
    "\n",
    "daq.close()"
   ]
  },
  {
   "cell_type": "code",
   "execution_count": 6,
   "metadata": {},
   "outputs": [
    {
     "name": "stderr",
     "output_type": "stream",
     "text": [
      "Failed to get extended error info. DAQmxGetExtendedErrorInfo returned error code -200090.\n"
     ]
    },
    {
     "ename": "DaqError",
     "evalue": "Failed to retrieve error description.\n\nStatus Code: -200090",
     "output_type": "error",
     "traceback": [
      "\u001b[1;31m---------------------------------------------------------------------------\u001b[0m",
      "\u001b[1;31mDaqError\u001b[0m                                  Traceback (most recent call last)",
      "Cell \u001b[1;32mIn[6], line 5\u001b[0m\n\u001b[0;32m      2\u001b[0m daq \u001b[38;5;241m=\u001b[39m MyDAQ()\n\u001b[0;32m      4\u001b[0m \u001b[38;5;66;03m# Configure for reading\u001b[39;00m\n\u001b[1;32m----> 5\u001b[0m daq\u001b[38;5;241m.\u001b[39mconfigure_read_task(rate\u001b[38;5;241m=\u001b[39m\u001b[38;5;241m1000\u001b[39m, samps_per_chan\u001b[38;5;241m=\u001b[39m\u001b[38;5;241m1000\u001b[39m)\n\u001b[0;32m      7\u001b[0m \u001b[38;5;66;03m# Simulate reading data from MyDAQ (replace this with actual read in practice)\u001b[39;00m\n\u001b[0;32m      8\u001b[0m signal_data \u001b[38;5;241m=\u001b[39m np\u001b[38;5;241m.\u001b[39msin(\u001b[38;5;241m2\u001b[39m \u001b[38;5;241m*\u001b[39m np\u001b[38;5;241m.\u001b[39mpi \u001b[38;5;241m*\u001b[39m \u001b[38;5;241m50\u001b[39m \u001b[38;5;241m*\u001b[39m daq\u001b[38;5;241m.\u001b[39mget_time_array())  \u001b[38;5;66;03m# Example signal: 50 Hz sine wave\u001b[39;00m\n",
      "Cell \u001b[1;32mIn[5], line 28\u001b[0m, in \u001b[0;36mMyDAQ.configure_read_task\u001b[1;34m(self, rate, samps_per_chan)\u001b[0m\n\u001b[0;32m     26\u001b[0m \u001b[38;5;28;01mdef\u001b[39;00m \u001b[38;5;21mconfigure_read_task\u001b[39m(\u001b[38;5;28mself\u001b[39m, rate\u001b[38;5;241m=\u001b[39m\u001b[38;5;241m100\u001b[39m, samps_per_chan\u001b[38;5;241m=\u001b[39m\u001b[38;5;241m50\u001b[39m):\n\u001b[0;32m     27\u001b[0m \u001b[38;5;250m    \u001b[39m\u001b[38;5;124;03m\"\"\"Configures the read task with the given parameters.\"\"\"\u001b[39;00m\n\u001b[1;32m---> 28\u001b[0m     \u001b[38;5;28mself\u001b[39m\u001b[38;5;241m.\u001b[39mread_task \u001b[38;5;241m=\u001b[39m dx\u001b[38;5;241m.\u001b[39mTask()\n\u001b[0;32m     29\u001b[0m     \u001b[38;5;28mself\u001b[39m\u001b[38;5;241m.\u001b[39mread_task\u001b[38;5;241m.\u001b[39mai_channels\u001b[38;5;241m.\u001b[39madd_ai_voltage_chan(\u001b[38;5;124mf\u001b[39m\u001b[38;5;124m'\u001b[39m\u001b[38;5;132;01m{\u001b[39;00m\u001b[38;5;28mself\u001b[39m\u001b[38;5;241m.\u001b[39mdevice_name\u001b[38;5;132;01m}\u001b[39;00m\u001b[38;5;124m/ai0\u001b[39m\u001b[38;5;124m'\u001b[39m)\n\u001b[0;32m     30\u001b[0m     \u001b[38;5;28mself\u001b[39m\u001b[38;5;241m.\u001b[39mread_task\u001b[38;5;241m.\u001b[39mtiming\u001b[38;5;241m.\u001b[39mcfg_samp_clk_timing(\n\u001b[0;32m     31\u001b[0m         rate,\n\u001b[0;32m     32\u001b[0m         sample_mode\u001b[38;5;241m=\u001b[39mdx\u001b[38;5;241m.\u001b[39mconstants\u001b[38;5;241m.\u001b[39mAcquisitionType\u001b[38;5;241m.\u001b[39mFINITE,\n\u001b[0;32m     33\u001b[0m         samps_per_chan\u001b[38;5;241m=\u001b[39msamps_per_chan\n\u001b[0;32m     34\u001b[0m     )\n",
      "File \u001b[1;32mc:\\Users\\Damianko\\anaconda3\\Lib\\site-packages\\nidaqmx\\task\\_task.py:92\u001b[0m, in \u001b[0;36mTask.__init__\u001b[1;34m(self, new_task_name, grpc_options)\u001b[0m\n\u001b[0;32m     86\u001b[0m     \u001b[38;5;28;01mraise\u001b[39;00m DaqError(\n\u001b[0;32m     87\u001b[0m         \u001b[38;5;124mf\u001b[39m\u001b[38;5;124m'\u001b[39m\u001b[38;5;124mUnsupported session name: \u001b[39m\u001b[38;5;124m\"\u001b[39m\u001b[38;5;132;01m{\u001b[39;00mgrpc_options\u001b[38;5;241m.\u001b[39msession_name\u001b[38;5;132;01m}\u001b[39;00m\u001b[38;5;124m\"\u001b[39m\u001b[38;5;124m. If a session name is specified, it must match the task name.\u001b[39m\u001b[38;5;124m'\u001b[39m,\n\u001b[0;32m     88\u001b[0m         DAQmxErrors\u001b[38;5;241m.\u001b[39mUNKNOWN,\n\u001b[0;32m     89\u001b[0m         task_name\u001b[38;5;241m=\u001b[39mnew_task_name)\n\u001b[0;32m     91\u001b[0m \u001b[38;5;28mself\u001b[39m\u001b[38;5;241m.\u001b[39m_interpreter \u001b[38;5;241m=\u001b[39m utils\u001b[38;5;241m.\u001b[39m_select_interpreter(grpc_options)\n\u001b[1;32m---> 92\u001b[0m \u001b[38;5;28mself\u001b[39m\u001b[38;5;241m.\u001b[39m_handle, \u001b[38;5;28mself\u001b[39m\u001b[38;5;241m.\u001b[39m_close_on_exit \u001b[38;5;241m=\u001b[39m \u001b[38;5;28mself\u001b[39m\u001b[38;5;241m.\u001b[39m_interpreter\u001b[38;5;241m.\u001b[39mcreate_task(new_task_name)\n\u001b[0;32m     94\u001b[0m \u001b[38;5;28mself\u001b[39m\u001b[38;5;241m.\u001b[39m_initialize(\u001b[38;5;28mself\u001b[39m\u001b[38;5;241m.\u001b[39m_handle, \u001b[38;5;28mself\u001b[39m\u001b[38;5;241m.\u001b[39m_interpreter)\n",
      "File \u001b[1;32mc:\\Users\\Damianko\\anaconda3\\Lib\\site-packages\\nidaqmx\\_library_interpreter.py:1835\u001b[0m, in \u001b[0;36mLibraryInterpreter.create_task\u001b[1;34m(self, session_name)\u001b[0m\n\u001b[0;32m   1829\u001b[0m             cfunc\u001b[38;5;241m.\u001b[39margtypes \u001b[38;5;241m=\u001b[39m [\n\u001b[0;32m   1830\u001b[0m                 ctypes_byte_str,\n\u001b[0;32m   1831\u001b[0m                 ctypes\u001b[38;5;241m.\u001b[39mPOINTER(lib_importer\u001b[38;5;241m.\u001b[39mtask_handle)]\n\u001b[0;32m   1833\u001b[0m error_code \u001b[38;5;241m=\u001b[39m cfunc(\n\u001b[0;32m   1834\u001b[0m     session_name, ctypes\u001b[38;5;241m.\u001b[39mbyref(task))\n\u001b[1;32m-> 1835\u001b[0m \u001b[38;5;28mself\u001b[39m\u001b[38;5;241m.\u001b[39mcheck_for_error(error_code)\n\u001b[0;32m   1836\u001b[0m \u001b[38;5;28;01mreturn\u001b[39;00m task, new_session_initialized\n",
      "File \u001b[1;32mc:\\Users\\Damianko\\anaconda3\\Lib\\site-packages\\nidaqmx\\_library_interpreter.py:6412\u001b[0m, in \u001b[0;36mLibraryInterpreter.check_for_error\u001b[1;34m(self, error_code, samps_per_chan_written, samps_per_chan_read)\u001b[0m\n\u001b[0;32m   6410\u001b[0m         \u001b[38;5;28;01mraise\u001b[39;00m DaqWriteError(extended_error_info, error_code, samps_per_chan_written)\n\u001b[0;32m   6411\u001b[0m     \u001b[38;5;28;01melse\u001b[39;00m:\n\u001b[1;32m-> 6412\u001b[0m         \u001b[38;5;28;01mraise\u001b[39;00m DaqError(extended_error_info, error_code)\n\u001b[0;32m   6414\u001b[0m \u001b[38;5;28;01melif\u001b[39;00m error_code \u001b[38;5;241m>\u001b[39m \u001b[38;5;241m0\u001b[39m:\n\u001b[0;32m   6415\u001b[0m     error_string \u001b[38;5;241m=\u001b[39m \u001b[38;5;28mself\u001b[39m\u001b[38;5;241m.\u001b[39mget_error_string(error_code)\n",
      "\u001b[1;31mDaqError\u001b[0m: Failed to retrieve error description.\n\nStatus Code: -200090"
     ]
    }
   ],
   "source": [
    "# Example usage:\n",
    "daq = MyDAQ()\n",
    "\n",
    "# Configure for reading\n",
    "daq.configure_read_task(rate=1000, samps_per_chan=1000)\n",
    "\n",
    "# Simulate reading data from MyDAQ (replace this with actual read in practice)\n",
    "signal_data = np.sin(2 * np.pi * 50 * daq.get_time_array())  # Example signal: 50 Hz sine wave\n",
    "\n",
    "# Perform FFT on the data\n",
    "daq.fft_analysis(signal_data)\n",
    "\n",
    "daq.close()"
   ]
  },
  {
   "cell_type": "code",
   "execution_count": null,
   "metadata": {},
   "outputs": [],
   "source": []
  }
 ],
 "metadata": {
  "kernelspec": {
   "display_name": "Python 3 (ipykernel)",
   "language": "python",
   "name": "python3"
  },
  "language_info": {
   "codemirror_mode": {
    "name": "ipython",
    "version": 3
   },
   "file_extension": ".py",
   "mimetype": "text/x-python",
   "name": "python",
   "nbconvert_exporter": "python",
   "pygments_lexer": "ipython3",
   "version": "3.11.4"
  }
 },
 "nbformat": 4,
 "nbformat_minor": 4
}
